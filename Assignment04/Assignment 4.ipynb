{
 "cells": [
  {
   "cell_type": "markdown",
   "id": "e12f7627",
   "metadata": {},
   "source": [
    "# Topic Modeling"
   ]
  },
  {
   "cell_type": "code",
   "execution_count": 1,
   "id": "c1dbb5ac",
   "metadata": {},
   "outputs": [
    {
     "data": {
      "text/plain": [
       "'3.10.5 (main, Jun  6 2022, 18:49:26) [GCC 12.1.0]'"
      ]
     },
     "execution_count": 1,
     "metadata": {},
     "output_type": "execute_result"
    }
   ],
   "source": [
    "import sys\n",
    "sys.version"
   ]
  },
  {
   "cell_type": "markdown",
   "id": "2682d87b",
   "metadata": {},
   "source": [
    "## Building a topic model "
   ]
  },
  {
   "cell_type": "code",
   "execution_count": 2,
   "id": "b4ac55e9",
   "metadata": {},
   "outputs": [
    {
     "name": "stdout",
     "output_type": "stream",
     "text": [
      "Defaulting to user installation because normal site-packages is not writeable\n",
      "Requirement already satisfied: gensim in /home/shreyam/.local/lib/python3.10/site-packages (4.2.0)\n",
      "Requirement already satisfied: numpy>=1.17.0 in /home/shreyam/.local/lib/python3.10/site-packages (from gensim) (1.22.4)\n",
      "Requirement already satisfied: scipy>=0.18.1 in /home/shreyam/.local/lib/python3.10/site-packages (from gensim) (1.8.1)\n",
      "Requirement already satisfied: smart-open>=1.8.1 in /home/shreyam/.local/lib/python3.10/site-packages (from gensim) (6.0.0)\n"
     ]
    }
   ],
   "source": [
    "!pip install gensim"
   ]
  },
  {
   "cell_type": "code",
   "execution_count": 3,
   "id": "d041596b",
   "metadata": {},
   "outputs": [],
   "source": [
    "import gensim\n",
    "from gensim import corpora, models\n",
    "\n",
    "corpus = corpora.BleiCorpus(\"./data/ap/ap.dat\", \"./data/ap/vocab.txt\")"
   ]
  },
  {
   "cell_type": "code",
   "execution_count": 4,
   "id": "75d75efc",
   "metadata": {},
   "outputs": [],
   "source": [
    "model = models.ldamodel.LdaModel(\n",
    "    corpus,\n",
    "    num_topics=100,\n",
    "    id2word=corpus.id2word\n",
    ")"
   ]
  },
  {
   "cell_type": "code",
   "execution_count": 5,
   "id": "3fef964d",
   "metadata": {},
   "outputs": [
    {
     "name": "stdout",
     "output_type": "stream",
     "text": [
      "[(10, 0.013225546), (28, 0.07190704), (34, 0.013559391), (43, 0.022816341), (47, 0.20257895), (48, 0.099299975), (49, 0.021538753), (54, 0.021581963), (64, 0.18492891), (76, 0.08258188), (84, 0.19908002), (86, 0.029858237), (99, 0.016222036)]\n"
     ]
    }
   ],
   "source": [
    "doc = corpus.docbyoffset(0)\n",
    "topics = model[doc]\n",
    "print(topics)"
   ]
  },
  {
   "cell_type": "code",
   "execution_count": 6,
   "id": "b28ad4ae",
   "metadata": {},
   "outputs": [],
   "source": [
    "import matplotlib.pyplot as plt\n",
    "import numpy as np"
   ]
  },
  {
   "cell_type": "code",
   "execution_count": 7,
   "id": "71570e4a",
   "metadata": {},
   "outputs": [
    {
     "data": {
      "image/png": "[encoded data removed]",
      "text/plain": [
       "<Figure size 432x288 with 1 Axes>"
      ]
     },
     "metadata": {
      "needs_background": "light"
     },
     "output_type": "display_data"
    }
   ],
   "source": [
    "num_topics_used = [len(model[doc]) for doc in corpus]\n",
    "fig,ax = plt.subplots()\n",
    "ax.hist(num_topics_used, np.arange(42))\n",
    "ax.set_ylabel('Nr of documents')\n",
    "ax.set_xlabel('Nr of topics')\n",
    "fig.tight_layout()\n",
    "fig.savefig('Figure_04_01.png')"
   ]
  },
  {
   "cell_type": "code",
   "execution_count": 8,
   "id": "d073ecfb",
   "metadata": {},
   "outputs": [],
   "source": [
    "ALPHA = 1.0\n",
    "\n",
    "model1 = models.ldamodel.LdaModel(\n",
    "    corpus, \n",
    "    num_topics=100,\n",
    "    id2word=corpus.id2word, \n",
    "    alpha=ALPHA\n",
    ")"
   ]
  },
  {
   "cell_type": "code",
   "execution_count": 9,
   "id": "1f2c745f",
   "metadata": {},
   "outputs": [
    {
     "data": {
      "image/png": "[encoded data removed]",
      "text/plain": [
       "<Figure size 432x288 with 1 Axes>"
      ]
     },
     "metadata": {
      "needs_background": "light"
     },
     "output_type": "display_data"
    }
   ],
   "source": [
    "num_topics_used1 = [len(model1[doc]) for doc in corpus]\n",
    "\n",
    "fig,ax = plt.subplots()\n",
    "ax.hist([num_topics_used, num_topics_used1], np.arange(42))\n",
    "ax.set_ylabel(\"Nr of documents\")\n",
    "ax.set_xlabel(\"Nr of topics\")\n",
    "\n",
    "# The coordinates below were fit by trial and error to look good\n",
    "ax.text(9, 223, r\"default alpha\")\n",
    "ax.text(26, 156, \"alpha=1.0\")\n",
    "fig.tight_layout()\n",
    "fig.savefig(\"Figure_04_02.png\")"
   ]
  },
  {
   "cell_type": "markdown",
   "id": "50bd98c5",
   "metadata": {},
   "source": [
    "## Comparing documents by topic "
   ]
  },
  {
   "cell_type": "code",
   "execution_count": 10,
   "id": "a17e7634",
   "metadata": {},
   "outputs": [],
   "source": [
    "from gensim import matutils \n",
    "topics = matutils.corpus2dense(model[corpus], num_terms=model.num_topics) "
   ]
  },
  {
   "cell_type": "code",
   "execution_count": 11,
   "id": "dd73a1d6",
   "metadata": {},
   "outputs": [],
   "source": [
    "from scipy.spatial import distance \n",
    "distances = distance.squareform(distance.pdist(topics)) "
   ]
  },
  {
   "cell_type": "code",
   "execution_count": 12,
   "id": "5b410c6f",
   "metadata": {},
   "outputs": [],
   "source": [
    " for ti in range(len(topics)): \n",
    "     distances[ti,ti] = np.inf "
   ]
  },
  {
   "cell_type": "code",
   "execution_count": 13,
   "id": "b9ac5dbc",
   "metadata": {},
   "outputs": [],
   "source": [
    "def closest_to(doc_id): \n",
    "    return distances[doc_id].argmin() "
   ]
  },
  {
   "cell_type": "code",
   "execution_count": 14,
   "id": "e05f11cc",
   "metadata": {},
   "outputs": [
    {
     "data": {
      "text/plain": [
       "14"
      ]
     },
     "execution_count": 14,
     "metadata": {},
     "output_type": "execute_result"
    }
   ],
   "source": [
    "closest_to(1)"
   ]
  }
 ],
 "metadata": {
  "kernelspec": {
   "display_name": "Python 3 (ipykernel)",
   "language": "python",
   "name": "python3"
  },
  "language_info": {
   "codemirror_mode": {
    "name": "ipython",
    "version": 3
   },
   "file_extension": ".py",
   "mimetype": "text/x-python",
   "name": "python",
   "nbconvert_exporter": "python",
   "pygments_lexer": "ipython3",
   "version": "3.10.5"
  }
 },
 "nbformat": 4,
 "nbformat_minor": 5
}
