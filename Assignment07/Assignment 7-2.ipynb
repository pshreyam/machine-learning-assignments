{
 "cells": [
  {
   "cell_type": "markdown",
   "id": "d57e8272",
   "metadata": {},
   "source": [
    "# Example Code For Q-Learning\n",
    "## (Book: Mastering Machine Learning with Python in Six Steps)"
   ]
  },
  {
   "cell_type": "code",
   "execution_count": 1,
   "id": "cf625c2d",
   "metadata": {},
   "outputs": [],
   "source": [
    "import numpy as np\n",
    "import matplotlib.pyplot as plt\n",
    "from matplotlib.collections import LineCollection\n",
    "import random"
   ]
  },
  {
   "cell_type": "code",
   "execution_count": 6,
   "id": "f2142989",
   "metadata": {},
   "outputs": [],
   "source": [
    "# Define the reward/link connection graph\n",
    "\n",
    "R = np.matrix([\n",
    "        [-1, -1, -1, -1, 0, -1],\n",
    "        [-1, -1, -1, 0, -1, 100],\n",
    "        [-1, -1, -1, 0, -1, -1],\n",
    "        [-1, 0, 0, -1, 0, -1],\n",
    "        [ 0, -1, -1, 0, -1, 100],\n",
    "        [-1, 0, -1, -1, 0, 100]\n",
    "]).astype(\"float32\")\n",
    "Q = np.zeros_like(R)"
   ]
  },
  {
   "cell_type": "code",
   "execution_count": 16,
   "id": "d7869d95",
   "metadata": {},
   "outputs": [],
   "source": [
    "# Learning parameter\n",
    "gamma = 0.8\n",
    "\n",
    "# Initialize random state\n",
    "initial_state = random.randint(0, 4)\n",
    "\n",
    "def available_actions(state):\n",
    "    # Return all available actions in the state given as an argument\n",
    "    current_state_row = R[state,]\n",
    "    av_act = np.where(current_state_row >= 0)[1]\n",
    "    return av_act\n",
    "\n",
    "def sample_next_action(available_actions_range):\n",
    "    # Choose at random which action to be performed within the range of all available actions\n",
    "    next_action = int(np.random.choice(available_act, 1))\n",
    "    return next_action"
   ]
  },
  {
   "cell_type": "code",
   "execution_count": 17,
   "id": "19da0c0a",
   "metadata": {},
   "outputs": [],
   "source": [
    "def update(current_state, action, gamma):\n",
    "    # Update the Q matrix according to the path selected and the Q learning algorithm\n",
    "    max_index = np.where(Q[action,] == np.max(Q[action,]))[1]\n",
    "    if max_index.shape[0] > 1:\n",
    "        max_index = int(np.random.choice(max_index, size = 1))\n",
    "    else:\n",
    "        max_index = int(max_index)\n",
    "    max_value = Q[action, max_index]\n",
    "    \n",
    "    # Q learning formula\n",
    "    Q[current_state, action] = R[current_state, action] + gamma * max_value"
   ]
  },
  {
   "cell_type": "code",
   "execution_count": 18,
   "id": "9900baba",
   "metadata": {},
   "outputs": [],
   "source": [
    "available_act = available_actions(initial_state)\n",
    "action = sample_next_action(available_act)"
   ]
  },
  {
   "cell_type": "code",
   "execution_count": 19,
   "id": "70dd52ec",
   "metadata": {},
   "outputs": [],
   "source": [
    "# Train over 100 iterations, re-iterate the process above).\n",
    "for i in range(100):\n",
    "    current_state = np.random.randint(0, int(Q.shape[0]))\n",
    "    available_act = available_actions(current_state)\n",
    "    action = sample_next_action(available_act)\n",
    "    update(current_state, action, gamma)"
   ]
  },
  {
   "cell_type": "code",
   "execution_count": 20,
   "id": "f3acf598",
   "metadata": {},
   "outputs": [
    {
     "name": "stdout",
     "output_type": "stream",
     "text": [
      "Trained Q matrix: \n",
      " [[  0.           0.           0.           0.          80.00000119\n",
      "    0.        ]\n",
      " [  0.           0.           0.          46.55193686   0.\n",
      "   97.62266278]\n",
      " [  0.           0.           0.          63.32377791   0.\n",
      "    0.        ]\n",
      " [  0.          78.09813023  50.65902472   0.          79.15472388\n",
      "    0.        ]\n",
      " [ 63.99999857   0.           0.          62.47850657   0.\n",
      "  100.        ]\n",
      " [  0.          78.09813023   0.           0.          80.00000119\n",
      "   98.94340634]]\n"
     ]
    }
   ],
   "source": [
    "# Normalize the \"trained\" Q matrix\n",
    "print(\"Trained Q matrix: \\n\", Q/np.max(Q)*100)"
   ]
  },
  {
   "cell_type": "code",
   "execution_count": 21,
   "id": "efa55b8f",
   "metadata": {},
   "outputs": [],
   "source": [
    "current_state = 2\n",
    "steps = [current_state]\n",
    "\n",
    "while current_state != 5:\n",
    "    next_step_index = np.where(Q[current_state,] == np.max(Q[current_state,]))[1]\n",
    "    if next_step_index.shape[0] > 1:\n",
    "        next_step_index = int(np.random.choice(next_step_index, size=1))\n",
    "    else:\n",
    "        next_step_index = int(next_step_index)\n",
    "    steps.append(next_step_index)\n",
    "    current_state = next_step_index"
   ]
  },
  {
   "cell_type": "code",
   "execution_count": 22,
   "id": "8da45e43",
   "metadata": {},
   "outputs": [
    {
     "name": "stdout",
     "output_type": "stream",
     "text": [
      "Best sequence path: [2, 3, 4, 5]\n"
     ]
    }
   ],
   "source": [
    "# Print selected sequence of steps\n",
    "print (f\"Best sequence path: {steps}\")"
   ]
  }
 ],
 "metadata": {
  "kernelspec": {
   "display_name": "Python 3 (ipykernel)",
   "language": "python",
   "name": "python3"
  },
  "language_info": {
   "codemirror_mode": {
    "name": "ipython",
    "version": 3
   },
   "file_extension": ".py",
   "mimetype": "text/x-python",
   "name": "python",
   "nbconvert_exporter": "python",
   "pygments_lexer": "ipython3",
   "version": "3.10.6"
  }
 },
 "nbformat": 4,
 "nbformat_minor": 5
}
