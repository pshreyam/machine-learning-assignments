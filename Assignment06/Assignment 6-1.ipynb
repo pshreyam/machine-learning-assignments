{
 "cells": [
  {
   "cell_type": "markdown",
   "id": "14401789",
   "metadata": {},
   "source": [
    "# Artificial Neural Networks\n",
    "## (Book: Artificial Intelligence with Python)"
   ]
  },
  {
   "cell_type": "code",
   "execution_count": 1,
   "id": "7065d045",
   "metadata": {
    "scrolled": true
   },
   "outputs": [],
   "source": [
    "# !pip install neurolab"
   ]
  },
  {
   "cell_type": "markdown",
   "id": "36094358",
   "metadata": {},
   "source": [
    "## Building a Perceptron based classifier"
   ]
  },
  {
   "cell_type": "code",
   "execution_count": 2,
   "id": "2ee2f929",
   "metadata": {},
   "outputs": [],
   "source": [
    "import numpy as np\n",
    "import matplotlib.pyplot as plt\n",
    "import neurolab as nl"
   ]
  },
  {
   "cell_type": "code",
   "execution_count": 3,
   "id": "22f54a24",
   "metadata": {},
   "outputs": [],
   "source": [
    "text = np.loadtxt(\"data_perceptron.txt\")"
   ]
  },
  {
   "cell_type": "code",
   "execution_count": 4,
   "id": "7cf2e058",
   "metadata": {},
   "outputs": [],
   "source": [
    "data = text[:, :2]\n",
    "labels = text[:, 2].reshape((text.shape[0], 1))"
   ]
  },
  {
   "cell_type": "code",
   "execution_count": 5,
   "id": "bd9282f4",
   "metadata": {},
   "outputs": [
    {
     "data": {
      "text/plain": [
       "array([[0.38, 0.19],\n",
       "       [0.17, 0.31],\n",
       "       [0.29, 0.54],\n",
       "       [0.89, 0.55],\n",
       "       [0.78, 0.36]])"
      ]
     },
     "execution_count": 5,
     "metadata": {},
     "output_type": "execute_result"
    }
   ],
   "source": [
    "data"
   ]
  },
  {
   "cell_type": "code",
   "execution_count": 6,
   "id": "4c63ae27",
   "metadata": {},
   "outputs": [
    {
     "data": {
      "text/plain": [
       "array([[0.],\n",
       "       [0.],\n",
       "       [0.],\n",
       "       [1.],\n",
       "       [1.]])"
      ]
     },
     "execution_count": 6,
     "metadata": {},
     "output_type": "execute_result"
    }
   ],
   "source": [
    "labels"
   ]
  },
  {
   "cell_type": "code",
   "execution_count": 7,
   "id": "8cdb3a3e",
   "metadata": {},
   "outputs": [
    {
     "data": {
      "text/plain": [
       "Text(0.5, 1.0, 'Input Data')"
      ]
     },
     "execution_count": 7,
     "metadata": {},
     "output_type": "execute_result"
    },
    {
     "data": {
      "image/png": "[encoded data removed]",
      "text/plain": [
       "<Figure size 432x288 with 1 Axes>"
      ]
     },
     "metadata": {
      "needs_background": "light"
     },
     "output_type": "display_data"
    }
   ],
   "source": [
    "plt.figure()\n",
    "plt.scatter(data[:, 0], data[:, 1])\n",
    "plt.xlabel(\"Dimension 1\")\n",
    "plt.ylabel(\"Dimension 2\")\n",
    "plt.title(\"Input Data\")"
   ]
  },
  {
   "cell_type": "code",
   "execution_count": 8,
   "id": "344c1894",
   "metadata": {},
   "outputs": [],
   "source": [
    "# Define minimum and maximum values for each dimensioon\n",
    "dim1_min, dim1_max, dim2_min, dim2_max = 0, 1, 0, 1"
   ]
  },
  {
   "cell_type": "code",
   "execution_count": 9,
   "id": "91a3f434",
   "metadata": {},
   "outputs": [],
   "source": [
    "# Number of neurons in the output layer\n",
    "num_output = labels.shape[1]"
   ]
  },
  {
   "cell_type": "code",
   "execution_count": 10,
   "id": "f4699e58",
   "metadata": {},
   "outputs": [],
   "source": [
    "# Define a perceptron with 2 input neurons (because we\n",
    "# have 2 dimensions in the input data)\n",
    "dim1 = [dim1_min, dim1_max]\n",
    "dim2 = [dim2_min, dim2_max]\n",
    "perceptron = nl.net.newp([dim1, dim2], num_output)"
   ]
  },
  {
   "cell_type": "code",
   "execution_count": 11,
   "id": "32734947",
   "metadata": {},
   "outputs": [
    {
     "name": "stdout",
     "output_type": "stream",
     "text": [
      "The goal of learning is reached\n"
     ]
    }
   ],
   "source": [
    "# Train the perceptron using the data\n",
    "error_progress = perceptron.train(data, labels, epochs=100, show=20,\n",
    "                                  lr=0.03)"
   ]
  },
  {
   "cell_type": "code",
   "execution_count": 12,
   "id": "e5e7c023",
   "metadata": {},
   "outputs": [
    {
     "data": {
      "image/png": "[encoded data removed]",
      "text/plain": [
       "<Figure size 432x288 with 1 Axes>"
      ]
     },
     "metadata": {
      "needs_background": "light"
     },
     "output_type": "display_data"
    }
   ],
   "source": [
    "# Plot the learning process\n",
    "plt.figure()\n",
    "plt.plot(error_progress)\n",
    "plt.xlabel(\"Number of epochs\")\n",
    "plt.ylabel(\"Training error\")\n",
    "plt.title(\"Training error progress\")\n",
    "\n",
    "plt.grid()\n",
    "plt.show()"
   ]
  },
  {
   "cell_type": "markdown",
   "id": "6093de5d",
   "metadata": {},
   "source": [
    "## Constructing a single layer neural network\n",
    "\n",
    "Since a perceptron is not that powerful, we build a set of neurons to form a unit."
   ]
  },
  {
   "cell_type": "code",
   "execution_count": 13,
   "id": "c33fa774",
   "metadata": {},
   "outputs": [],
   "source": [
    "text = np.loadtxt(\"data_simple_nn.txt\")"
   ]
  },
  {
   "cell_type": "code",
   "execution_count": 14,
   "id": "3b8c31ea",
   "metadata": {},
   "outputs": [],
   "source": [
    "data = text[:, :2]\n",
    "labels = text[:, 2:]"
   ]
  },
  {
   "cell_type": "code",
   "execution_count": 15,
   "id": "064481c1",
   "metadata": {},
   "outputs": [
    {
     "data": {
      "text/plain": [
       "array([[1. , 4. ],\n",
       "       [1.1, 3.9],\n",
       "       [1.2, 4.1],\n",
       "       [0.9, 3.7],\n",
       "       [7. , 4. ],\n",
       "       [7.2, 4.1],\n",
       "       [6.9, 3.9],\n",
       "       [7.1, 4.2],\n",
       "       [4. , 1. ],\n",
       "       [4.1, 0.9],\n",
       "       [4.2, 1.1],\n",
       "       [3.9, 0.8],\n",
       "       [4. , 7. ],\n",
       "       [4.2, 7.2],\n",
       "       [3.9, 7.1],\n",
       "       [4.1, 6.8]])"
      ]
     },
     "execution_count": 15,
     "metadata": {},
     "output_type": "execute_result"
    }
   ],
   "source": [
    "data"
   ]
  },
  {
   "cell_type": "code",
   "execution_count": 16,
   "id": "0a3ba519",
   "metadata": {},
   "outputs": [
    {
     "data": {
      "text/plain": [
       "array([[0., 0.],\n",
       "       [0., 0.],\n",
       "       [0., 0.],\n",
       "       [0., 0.],\n",
       "       [0., 1.],\n",
       "       [0., 1.],\n",
       "       [0., 1.],\n",
       "       [0., 1.],\n",
       "       [1., 0.],\n",
       "       [1., 0.],\n",
       "       [1., 0.],\n",
       "       [1., 0.],\n",
       "       [1., 1.],\n",
       "       [1., 1.],\n",
       "       [1., 1.],\n",
       "       [1., 1.]])"
      ]
     },
     "execution_count": 16,
     "metadata": {},
     "output_type": "execute_result"
    }
   ],
   "source": [
    "labels"
   ]
  },
  {
   "cell_type": "code",
   "execution_count": 17,
   "id": "63550ad8",
   "metadata": {},
   "outputs": [
    {
     "data": {
      "text/plain": [
       "Text(0.5, 1.0, 'Input data')"
      ]
     },
     "execution_count": 17,
     "metadata": {},
     "output_type": "execute_result"
    },
    {
     "data": {
      "image/png": "[encoded data removed]",
      "text/plain": [
       "<Figure size 432x288 with 1 Axes>"
      ]
     },
     "metadata": {
      "needs_background": "light"
     },
     "output_type": "display_data"
    }
   ],
   "source": [
    "plt.figure()\n",
    "plt.scatter(data[:, 0], data[:, 1])\n",
    "plt.xlabel(\"Dimension 1\")\n",
    "plt.ylabel(\"Dimension 2\")\n",
    "plt.title(\"Input data\")"
   ]
  },
  {
   "cell_type": "code",
   "execution_count": 18,
   "id": "b55d6355",
   "metadata": {},
   "outputs": [],
   "source": [
    "# Minimum and maximum values for each dimension\n",
    "dim1_min, dim1_max = data[:,0].min(), data[:,0].max()\n",
    "dim2_min, dim2_max = data[:,1].min(), data[:,1].max()"
   ]
  },
  {
   "cell_type": "code",
   "execution_count": 19,
   "id": "f510dc8d",
   "metadata": {},
   "outputs": [],
   "source": [
    "# Define the number of neurons in the output layer\n",
    "num_output = labels.shape[1]"
   ]
  },
  {
   "cell_type": "code",
   "execution_count": 20,
   "id": "68c4a007",
   "metadata": {},
   "outputs": [],
   "source": [
    "# Define a single-layer neural network\n",
    "dim1 = [dim1_min, dim1_max]\n",
    "dim2 = [dim2_min, dim2_max]\n",
    "nn = nl.net.newp([dim1, dim2], num_output)"
   ]
  },
  {
   "cell_type": "code",
   "execution_count": 21,
   "id": "3cb3efae",
   "metadata": {},
   "outputs": [
    {
     "name": "stdout",
     "output_type": "stream",
     "text": [
      "Epoch: 20; Error: 4.0;\n",
      "Epoch: 40; Error: 4.0;\n",
      "Epoch: 60; Error: 4.0;\n",
      "Epoch: 80; Error: 4.0;\n",
      "Epoch: 100; Error: 4.0;\n",
      "The maximum number of train epochs is reached\n"
     ]
    }
   ],
   "source": [
    "# Train the neural network\n",
    "error_progress = nn.train(data, labels, epochs=100, show=20, lr=0.03)"
   ]
  },
  {
   "cell_type": "code",
   "execution_count": 22,
   "id": "e7240e23",
   "metadata": {},
   "outputs": [
    {
     "data": {
      "image/png": "[encoded data removed]",
      "text/plain": [
       "<Figure size 432x288 with 1 Axes>"
      ]
     },
     "metadata": {
      "needs_background": "light"
     },
     "output_type": "display_data"
    }
   ],
   "source": [
    "# Plot the training progress\n",
    "plt.figure()\n",
    "plt.plot(error_progress)\n",
    "plt.xlabel(\"Number of epochs\")\n",
    "plt.ylabel(\"Training error\")\n",
    "plt.title(\"Training error progress\")\n",
    "plt.grid()\n",
    "plt.show()"
   ]
  },
  {
   "cell_type": "code",
   "execution_count": 23,
   "id": "e436222e",
   "metadata": {},
   "outputs": [
    {
     "name": "stdout",
     "output_type": "stream",
     "text": [
      "Test results:\n",
      "[0.4, 4.3] --> [0. 0.]\n",
      "[4.4, 0.6] --> [1. 0.]\n",
      "[4.7, 8.1] --> [1. 1.]\n"
     ]
    }
   ],
   "source": [
    "# Run the classifier on test datapoints\n",
    "print(\"Test results:\")\n",
    "data_test = [[0.4, 4.3], [4.4, 0.6], [4.7, 8.1]]\n",
    "for item in data_test:\n",
    "    print(item, \"-->\", nn.sim([item])[0])"
   ]
  },
  {
   "cell_type": "markdown",
   "id": "c06ae09c",
   "metadata": {},
   "source": [
    "## Constructing a multilayer neural network\n",
    "Using neural network as regressor instead of classifier as above"
   ]
  },
  {
   "cell_type": "code",
   "execution_count": 24,
   "id": "02d735c7",
   "metadata": {},
   "outputs": [],
   "source": [
    "# Generate some training data based on y = 3.x^2 + 5 \n",
    "# and normalize the points\n",
    "min_val = -15\n",
    "max_val = 15\n",
    "num_points = 130\n",
    "x = np.linspace(min_val, max_val, num_points)\n",
    "y = 3 * np.square(x) + 5\n",
    "y /= np.linalg.norm(y)"
   ]
  },
  {
   "cell_type": "code",
   "execution_count": 25,
   "id": "52ad7da4",
   "metadata": {},
   "outputs": [],
   "source": [
    "# Create data and labels\n",
    "data = x.reshape(num_points, 1)\n",
    "labels = y.reshape(num_points, 1)"
   ]
  },
  {
   "cell_type": "code",
   "execution_count": 26,
   "id": "c8404abe",
   "metadata": {},
   "outputs": [
    {
     "data": {
      "text/plain": [
       "array([[-15.        ],\n",
       "       [-14.76744186],\n",
       "       [-14.53488372],\n",
       "       [-14.30232558],\n",
       "       [-14.06976744]])"
      ]
     },
     "execution_count": 26,
     "metadata": {},
     "output_type": "execute_result"
    }
   ],
   "source": [
    "data[:5]"
   ]
  },
  {
   "cell_type": "code",
   "execution_count": 27,
   "id": "ec3364f2",
   "metadata": {},
   "outputs": [
    {
     "data": {
      "text/plain": [
       "array([[0.19221203],\n",
       "       [0.18634166],\n",
       "       [0.18056301],\n",
       "       [0.17487608],\n",
       "       [0.16928088]])"
      ]
     },
     "execution_count": 27,
     "metadata": {},
     "output_type": "execute_result"
    }
   ],
   "source": [
    "labels[:5]"
   ]
  },
  {
   "cell_type": "code",
   "execution_count": 28,
   "id": "3b620c95",
   "metadata": {},
   "outputs": [
    {
     "data": {
      "text/plain": [
       "Text(0.5, 1.0, 'Input data')"
      ]
     },
     "execution_count": 28,
     "metadata": {},
     "output_type": "execute_result"
    },
    {
     "data": {
      "image/png": "[encoded data removed]",
      "text/plain": [
       "<Figure size 432x288 with 1 Axes>"
      ]
     },
     "metadata": {
      "needs_background": "light"
     },
     "output_type": "display_data"
    }
   ],
   "source": [
    "# Plot input data\n",
    "plt.figure()\n",
    "plt.scatter(data, labels)\n",
    "plt.xlabel(\"Dimension 1\")\n",
    "plt.ylabel(\"Dimension 2\")\n",
    "plt.title(\"Input data\")"
   ]
  },
  {
   "cell_type": "code",
   "execution_count": 29,
   "id": "7f85fc12",
   "metadata": {},
   "outputs": [],
   "source": [
    "# Define a multilayer neural network with 2 hidden layers;\n",
    "# First hidden layer consists of 10 neurons\n",
    "# Second hidden layer consists of 6 neurons\n",
    "# Output layer consists of 1 neuron\n",
    "nn = nl.net.newff([[min_val, max_val]], [10, 6, 1])"
   ]
  },
  {
   "cell_type": "code",
   "execution_count": 30,
   "id": "89bb45c9",
   "metadata": {},
   "outputs": [],
   "source": [
    "# Set the training algorithm to gradient descent\n",
    "nn.trainf = nl.train.train_gd"
   ]
  },
  {
   "cell_type": "code",
   "execution_count": 31,
   "id": "cfa98d60",
   "metadata": {},
   "outputs": [
    {
     "name": "stdout",
     "output_type": "stream",
     "text": [
      "Epoch: 100; Error: 3.457393083572612;\n",
      "Epoch: 200; Error: 0.922375701065575;\n",
      "Epoch: 300; Error: 0.2297230946737639;\n",
      "Epoch: 400; Error: 0.04267088591500936;\n",
      "Epoch: 500; Error: 0.03176453400817294;\n",
      "Epoch: 600; Error: 0.07149389106891502;\n",
      "Epoch: 700; Error: 0.05055047924271102;\n",
      "Epoch: 800; Error: 0.02796818166558637;\n",
      "Epoch: 900; Error: 0.03260537368559567;\n",
      "Epoch: 1000; Error: 0.03679651521586041;\n",
      "Epoch: 1100; Error: 0.02327687418787003;\n",
      "Epoch: 1200; Error: 0.01757570600942046;\n",
      "Epoch: 1300; Error: 0.017918850037051216;\n",
      "Epoch: 1400; Error: 0.019204468906492817;\n",
      "Epoch: 1500; Error: 0.01678646025594127;\n",
      "Epoch: 1600; Error: 0.013436440975422428;\n",
      "Epoch: 1700; Error: 0.011774086185660596;\n",
      "Epoch: 1800; Error: 0.011583348971732669;\n",
      "Epoch: 1900; Error: 0.012178971157143866;\n",
      "Epoch: 2000; Error: 0.012539889375459336;\n",
      "The maximum number of train epochs is reached\n"
     ]
    }
   ],
   "source": [
    "# Train the neural network\n",
    "error_progress = nn.train(data, labels, epochs=2000, show=100, goal=0.01)"
   ]
  },
  {
   "cell_type": "code",
   "execution_count": 32,
   "id": "e669092e",
   "metadata": {},
   "outputs": [],
   "source": [
    "# Run the neural network on training datapoints\n",
    "output = nn.sim(data)\n",
    "y_pred = output.reshape(num_points)"
   ]
  },
  {
   "cell_type": "code",
   "execution_count": 33,
   "id": "21f8a18d",
   "metadata": {},
   "outputs": [
    {
     "data": {
      "text/plain": [
       "array([[0.16460082],\n",
       "       [0.16459788],\n",
       "       [0.1645643 ],\n",
       "       [0.16449051],\n",
       "       [0.16435924]])"
      ]
     },
     "execution_count": 33,
     "metadata": {},
     "output_type": "execute_result"
    }
   ],
   "source": [
    "output[:5]"
   ]
  },
  {
   "cell_type": "code",
   "execution_count": 34,
   "id": "5208eff3",
   "metadata": {},
   "outputs": [
    {
     "data": {
      "text/plain": [
       "Text(0.5, 1.0, 'Training error progress')"
      ]
     },
     "execution_count": 34,
     "metadata": {},
     "output_type": "execute_result"
    },
    {
     "data": {
      "image/png": "[encoded data removed]",
      "text/plain": [
       "<Figure size 432x288 with 1 Axes>"
      ]
     },
     "metadata": {
      "needs_background": "light"
     },
     "output_type": "display_data"
    }
   ],
   "source": [
    "# Plot training error\n",
    "plt.figure()\n",
    "plt.plot(error_progress)\n",
    "plt.xlabel(\"Number of epochs\")\n",
    "plt.ylabel(\"Error\")\n",
    "plt.title(\"Training error progress\")"
   ]
  },
  {
   "cell_type": "code",
   "execution_count": 35,
   "id": "b199ba75",
   "metadata": {},
   "outputs": [
    {
     "data": {
      "image/png": "[encoded data removed]",
      "text/plain": [
       "<Figure size 432x288 with 1 Axes>"
      ]
     },
     "metadata": {
      "needs_background": "light"
     },
     "output_type": "display_data"
    }
   ],
   "source": [
    "# Plot the output\n",
    "x_dense = np.linspace(min_val, max_val, num_points * 2)\n",
    "y_dense_pred = nn.sim(x_dense.reshape(x_dense.size,1)).reshape(x_dense.size)\n",
    "plt.figure()\n",
    "plt.plot(x_dense, y_dense_pred, \"-\", x, y, \".\", x, y_pred, \"p\")\n",
    "plt.title(\"Actual vs predicted\")\n",
    "plt.show()"
   ]
  },
  {
   "cell_type": "markdown",
   "id": "8df7bb07",
   "metadata": {},
   "source": [
    "## Building a vector quantizer"
   ]
  },
  {
   "cell_type": "code",
   "execution_count": 36,
   "id": "bdd47a58",
   "metadata": {},
   "outputs": [],
   "source": [
    "text = np.loadtxt(\"data_vector_quantization.txt\")"
   ]
  },
  {
   "cell_type": "code",
   "execution_count": 37,
   "id": "2deaf5b2",
   "metadata": {},
   "outputs": [],
   "source": [
    "data = text[:, 0:2]\n",
    "labels = text[:, 2:]"
   ]
  },
  {
   "cell_type": "code",
   "execution_count": 38,
   "id": "c7301b1a",
   "metadata": {},
   "outputs": [
    {
     "data": {
      "text/plain": [
       "array([[0.9, 5.1],\n",
       "       [1.2, 4.8],\n",
       "       [1. , 4.9],\n",
       "       [0.8, 5.2],\n",
       "       [8. , 4.1]])"
      ]
     },
     "execution_count": 38,
     "metadata": {},
     "output_type": "execute_result"
    }
   ],
   "source": [
    "data[:5]"
   ]
  },
  {
   "cell_type": "code",
   "execution_count": 39,
   "id": "37c86e48",
   "metadata": {},
   "outputs": [
    {
     "data": {
      "text/plain": [
       "array([[1., 0., 0., 0.],\n",
       "       [1., 0., 0., 0.],\n",
       "       [1., 0., 0., 0.],\n",
       "       [1., 0., 0., 0.],\n",
       "       [0., 1., 0., 0.]])"
      ]
     },
     "execution_count": 39,
     "metadata": {},
     "output_type": "execute_result"
    }
   ],
   "source": [
    "labels[:5]"
   ]
  },
  {
   "cell_type": "code",
   "execution_count": 40,
   "id": "edb148d7",
   "metadata": {},
   "outputs": [],
   "source": [
    "num_input_neurons = 10\n",
    "num_output_neurons = 4\n",
    "weights = [1/num_output_neurons] * num_output_neurons\n",
    "nn = nl.net.newlvq(nl.tool.minmax(data), num_input_neurons, weights)"
   ]
  },
  {
   "cell_type": "code",
   "execution_count": 41,
   "id": "3cd350e9",
   "metadata": {},
   "outputs": [
    {
     "name": "stdout",
     "output_type": "stream",
     "text": [
      "Epoch: 100; Error: 0.0;\n",
      "Epoch: 200; Error: 0.0;\n",
      "Epoch: 300; Error: 0.0;\n",
      "Epoch: 400; Error: 0.0;\n",
      "Epoch: 500; Error: 0.0;\n",
      "The maximum number of train epochs is reached\n"
     ]
    }
   ],
   "source": [
    "# Train the neural network\n",
    "_ = nn.train(data, labels, epochs=500, goal=-1)"
   ]
  },
  {
   "cell_type": "code",
   "execution_count": 44,
   "id": "09790a20",
   "metadata": {},
   "outputs": [],
   "source": [
    "# Create the input grid\n",
    "xx, yy = np.meshgrid(np.arange(0, 10, 0.2), np.arange(0, 10, 0.2))\n",
    "xx.shape = xx.size, 1\n",
    "yy.shape = yy.size, 1\n",
    "grid_xy = np.concatenate((xx, yy), axis=1)"
   ]
  },
  {
   "cell_type": "code",
   "execution_count": 47,
   "id": "a7388c7c",
   "metadata": {},
   "outputs": [],
   "source": [
    "# Evaluate the input grid of points\n",
    "grid_eval = nn.sim(grid_xy)"
   ]
  },
  {
   "cell_type": "code",
   "execution_count": 48,
   "id": "fb3ae2c0",
   "metadata": {},
   "outputs": [],
   "source": [
    "# Define the 4 classes\n",
    "class_1 = data[labels[:,0] == 1]\n",
    "class_2 = data[labels[:,1] == 1]\n",
    "class_3 = data[labels[:,2] == 1]\n",
    "class_4 = data[labels[:,3] == 1]"
   ]
  },
  {
   "cell_type": "code",
   "execution_count": 50,
   "id": "7a22fa06",
   "metadata": {},
   "outputs": [],
   "source": [
    "# Define X-Y grids for all the 4 classes\n",
    "grid_1 = grid_xy[grid_eval[:,0] == 1]\n",
    "grid_2 = grid_xy[grid_eval[:,1] == 1]\n",
    "grid_3 = grid_xy[grid_eval[:,2] == 1]\n",
    "grid_4 = grid_xy[grid_eval[:,3] == 1]"
   ]
  },
  {
   "cell_type": "code",
   "execution_count": 51,
   "id": "0ac2e8c3",
   "metadata": {},
   "outputs": [
    {
     "data": {
      "image/png": "[encoded data removed]",
      "text/plain": [
       "<Figure size 432x288 with 1 Axes>"
      ]
     },
     "metadata": {
      "needs_background": "light"
     },
     "output_type": "display_data"
    }
   ],
   "source": [
    "# Plot the outputs\n",
    "plt.plot(class_1[:,0], class_1[:,1], \"ko\",\n",
    "        class_2[:,0], class_2[:,1], \"ko\",\n",
    "        class_3[:,0], class_3[:,1], \"ko\",\n",
    "        class_4[:,0], class_4[:,1], \"ko\")\n",
    "plt.plot(grid_1[:,0], grid_1[:,1], \"m.\",\n",
    "        grid_2[:,0], grid_2[:,1], \"bx\",\n",
    "        grid_3[:,0], grid_3[:,1], \"c^\",\n",
    "        grid_4[:,0], grid_4[:,1], \"y+\")\n",
    "plt.axis([0, 10, 0, 10])\n",
    "plt.xlabel(\"Dimension 1\")\n",
    "plt.ylabel(\"Dimension 2\")\n",
    "plt.title(\"Vector quantization\")\n",
    "plt.show()"
   ]
  },
  {
   "cell_type": "markdown",
   "id": "1a9974ad",
   "metadata": {},
   "source": [
    "## Analyzing sequential data using recurrent neural networks\n",
    "\n",
    "Particularly RNNs are great for sequential data"
   ]
  },
  {
   "cell_type": "code",
   "execution_count": 52,
   "id": "0114d16f",
   "metadata": {},
   "outputs": [],
   "source": [
    "def get_data(num_points):\n",
    "    # Create sine waveforms\n",
    "    wave_1 = 0.5 * np.sin(np.arange(0, num_points))\n",
    "    wave_2 = 3.6 * np.sin(np.arange(0, num_points))\n",
    "    wave_3 = 1.1 * np.sin(np.arange(0, num_points))\n",
    "    wave_4 = 4.7 * np.sin(np.arange(0, num_points))\n",
    "    \n",
    "     # Create varying amplitudes\n",
    "    amp_1 = np.ones(num_points)\n",
    "    amp_2 = 2.1 + np.zeros(num_points)\n",
    "    amp_3 = 3.2 * np.ones(num_points)\n",
    "    amp_4 = 0.8 + np.zeros(num_points)\n",
    "    \n",
    "    wave = np.array([wave_1, wave_2, wave_3, wave_4]).reshape(num_points * 4, 1)\n",
    "    amp = np.array([[amp_1, amp_2, amp_3, amp_4]]).reshape(num_points * 4, 1)\n",
    "    \n",
    "    return wave, amp"
   ]
  },
  {
   "cell_type": "code",
   "execution_count": 53,
   "id": "5ca699b5",
   "metadata": {},
   "outputs": [],
   "source": [
    "# Visualize the output\n",
    "def visualize_output(nn, num_points_test):\n",
    "    wave, amp = get_data(num_points_test)\n",
    "    output = nn.sim(wave)\n",
    "    plt.plot(amp.reshape(num_points_test * 4))\n",
    "    plt.plot(output.reshape(num_points_test * 4))"
   ]
  },
  {
   "cell_type": "code",
   "execution_count": 54,
   "id": "d3d725fa",
   "metadata": {},
   "outputs": [],
   "source": [
    "# Create some sample data\n",
    "num_points = 40\n",
    "wave, amp = get_data(num_points)"
   ]
  },
  {
   "cell_type": "code",
   "execution_count": 55,
   "id": "5b953429",
   "metadata": {},
   "outputs": [],
   "source": [
    "# Create a recurrent neural network with 2 layers\n",
    "nn = nl.net.newelm([[-2, 2]], [10, 1], [nl.trans.TanSig(), nl.trans.PureLin()])"
   ]
  },
  {
   "cell_type": "code",
   "execution_count": 56,
   "id": "19f542bf",
   "metadata": {},
   "outputs": [],
   "source": [
    "# Set the init functions for each layer\n",
    "nn.layers[0].initf = nl.init.InitRand([-0.1, 0.1], \"wb\")\n",
    "nn.layers[1].initf = nl.init.InitRand([-0.1, 0.1], \"wb\")\n",
    "nn.init()"
   ]
  },
  {
   "cell_type": "code",
   "execution_count": 57,
   "id": "4399e29a",
   "metadata": {},
   "outputs": [
    {
     "name": "stdout",
     "output_type": "stream",
     "text": [
      "Epoch: 100; Error: 0.8168513270772937;\n",
      "Epoch: 200; Error: 0.6514590702987281;\n",
      "Epoch: 300; Error: 0.23002863802548323;\n",
      "Epoch: 400; Error: 0.07446629084622416;\n",
      "Epoch: 500; Error: 0.05905017255203433;\n",
      "Epoch: 600; Error: 0.0501375962658119;\n",
      "Epoch: 700; Error: 0.04491148086379688;\n",
      "Epoch: 800; Error: 0.038847946313115035;\n",
      "Epoch: 900; Error: 0.034284861346778925;\n",
      "Epoch: 1000; Error: 0.029934109096375294;\n",
      "Epoch: 1100; Error: 0.027691338998221664;\n",
      "Epoch: 1200; Error: 0.026901925291820245;\n",
      "The maximum number of train epochs is reached\n"
     ]
    }
   ],
   "source": [
    "# Train the recurrent neural network\n",
    "error_progress = nn.train(wave, amp, epochs=1200, show=100, goal=0.01)"
   ]
  },
  {
   "cell_type": "code",
   "execution_count": 58,
   "id": "7f631ea3",
   "metadata": {},
   "outputs": [],
   "source": [
    "# Run the training data through the network\n",
    "output = nn.sim(wave)"
   ]
  },
  {
   "cell_type": "code",
   "execution_count": 59,
   "id": "08bf647a",
   "metadata": {},
   "outputs": [
    {
     "data": {
      "text/plain": [
       "<matplotlib.legend.Legend at 0x7f58900b8670>"
      ]
     },
     "execution_count": 59,
     "metadata": {},
     "output_type": "execute_result"
    },
    {
     "data": {
      "image/png": "[encoded data removed]",
      "text/plain": [
       "<Figure size 432x288 with 2 Axes>"
      ]
     },
     "metadata": {
      "needs_background": "light"
     },
     "output_type": "display_data"
    }
   ],
   "source": [
    "# Plot the results\n",
    "plt.subplot(211)\n",
    "plt.plot(error_progress)\n",
    "plt.xlabel(\"Number of epochs\")\n",
    "plt.ylabel(\"Error (MSE)\")\n",
    "plt.subplot(212)\n",
    "plt.plot(amp.reshape(num_points * 4))\n",
    "plt.plot(output.reshape(num_points * 4))\n",
    "plt.legend([\"Original\", \"Predicted\"])"
   ]
  },
  {
   "cell_type": "code",
   "execution_count": 60,
   "id": "0f66f59c",
   "metadata": {},
   "outputs": [
    {
     "data": {
      "image/png": "[encoded data removed]",
      "text/plain": [
       "<Figure size 432x288 with 2 Axes>"
      ]
     },
     "metadata": {
      "needs_background": "light"
     },
     "output_type": "display_data"
    }
   ],
   "source": [
    "# Testing the network performance on unknown data\n",
    "plt.figure()\n",
    "plt.subplot(211)\n",
    "visualize_output(nn, 82)\n",
    "plt.xlim([0, 300])\n",
    "plt.subplot(212)\n",
    "visualize_output(nn, 49)\n",
    "plt.xlim([0, 300])\n",
    "plt.show()"
   ]
  },
  {
   "cell_type": "markdown",
   "id": "44ce58f9",
   "metadata": {},
   "source": [
    "## Visualizing characters in an Optical Character Recognition Database"
   ]
  },
  {
   "cell_type": "code",
   "execution_count": 66,
   "id": "0640daa4",
   "metadata": {},
   "outputs": [],
   "source": [
    "import cv2"
   ]
  },
  {
   "cell_type": "code",
   "execution_count": 67,
   "id": "2a748b72",
   "metadata": {},
   "outputs": [],
   "source": [
    "# Define the input file \n",
    "input_file = \"letter.data\"\n",
    "\n",
    "# Define the visualization parameters \n",
    "img_resize_factor = 12\n",
    "start = 6\n",
    "end = -1\n",
    "height, width = 16, 8"
   ]
  },
  {
   "cell_type": "code",
   "execution_count": 68,
   "id": "c44f3b76",
   "metadata": {},
   "outputs": [],
   "source": [
    "# Iterate until the user presses the Esc key\n",
    "with open(input_file, \"r\") as f:\n",
    "    for line in f.readlines():\n",
    "        # Read the data\n",
    "        data = np.array([255 * float(x) for x in line.split(\"\\t\")[start:end]])\n",
    "\n",
    "        # Reshape the data into a 2D image\n",
    "        img = np.reshape(data, (height, width))\n",
    "\n",
    "        # Scale the image\n",
    "        img_scaled = cv2.resize(img, None, fx=img_resize_factor, fy=img_resize_factor)\n",
    "\n",
    "        # Display the image\n",
    "        cv2.imshow(\"Image\", img_scaled)\n",
    "\n",
    "        # Check if the user pressed the Esc key\n",
    "        c = cv2.waitKey()\n",
    "        if c == 27:\n",
    "            break"
   ]
  },
  {
   "cell_type": "markdown",
   "id": "268ec029",
   "metadata": {},
   "source": [
    "## Building an Optical Character Recognition engine"
   ]
  },
  {
   "cell_type": "code",
   "execution_count": 61,
   "id": "8ba4cf2f",
   "metadata": {},
   "outputs": [],
   "source": [
    "input_file = \"letter.data\"\n",
    "# Define the number of datapoints to be \n",
    "# loaded from the input file\n",
    "num_datapoints = 50\n",
    "# String containing all the distinct characters\n",
    "orig_labels = \"omandig\"\n",
    "# Compute the number of distinct characters\n",
    "num_orig_labels = len(orig_labels)\n",
    "# Define the training and testing parameters\n",
    "num_train = int(0.9 * num_datapoints)\n",
    "num_test = num_datapoints - num_train\n",
    "# Define the dataset extraction parameters\n",
    "start = 6\n",
    "end = -1\n",
    "\n",
    "# Creating the dataset\n",
    "data = []\n",
    "labels = []\n",
    "\n",
    "with open(input_file, 'r') as f:\n",
    "    for line in f.readlines():\n",
    "        # Split the current line tabwise\n",
    "        list_vals = line.split('\\t')\n",
    "    \n",
    "        # Check if the label is in our ground truth\n",
    "        # labels. If not, we should skip it.\n",
    "        if list_vals[1] not in orig_labels:\n",
    "            continue\n",
    "\n",
    "        # Extract the current label and append it\n",
    "        # to the main list\n",
    "        label = np.zeros((num_orig_labels, 1))\n",
    "        label[orig_labels.index(list_vals[1])] = 1\n",
    "        labels.append(label)\n",
    "        # Extract the character vector and append it to the main list\n",
    "        cur_char = np.array([float(x) for x in list_vals[start:end]])\n",
    "        data.append(cur_char)\n",
    "        \n",
    "        if len(data) >= num_datapoints:\n",
    "            break\n",
    "\n",
    "# Convert the data and labels to numpy arrays\n",
    "data = np.asfarray(data)\n",
    "labels = np.array(labels).reshape(num_datapoints, num_orig_labels)\n",
    "\n",
    "# Extract the number of dimensions\n",
    "num_dims = len(data[0])"
   ]
  },
  {
   "cell_type": "code",
   "execution_count": 62,
   "id": "2aa7415f",
   "metadata": {},
   "outputs": [],
   "source": [
    "# Create a feedforward neural network\n",
    "nn = nl.net.newff([[0, 1] for _ in range(len(data[0]))],\n",
    "        [128, 16, num_orig_labels])\n",
    "# Set the training algorithm to gradient descent\n",
    "nn.trainf = nl.train.train_gd"
   ]
  },
  {
   "cell_type": "code",
   "execution_count": 63,
   "id": "abbcc913",
   "metadata": {},
   "outputs": [
    {
     "name": "stdout",
     "output_type": "stream",
     "text": [
      "Epoch: 100; Error: 85.74015854922652;\n",
      "Epoch: 200; Error: 45.76051058492817;\n",
      "Epoch: 300; Error: 13.256443388045552;\n",
      "Epoch: 400; Error: 12.683195006456842;\n",
      "Epoch: 500; Error: 12.862178028954078;\n",
      "Epoch: 600; Error: 8.826964221423053;\n",
      "Epoch: 700; Error: 9.331655763980443;\n",
      "Epoch: 800; Error: 7.804243268011636;\n",
      "Epoch: 900; Error: 8.52512647180768;\n",
      "Epoch: 1000; Error: 1.4668035964672543;\n",
      "Epoch: 1100; Error: 0.4602123374836824;\n",
      "Epoch: 1200; Error: 0.34940403107443363;\n",
      "Epoch: 1300; Error: 0.3769993561192386;\n",
      "Epoch: 1400; Error: 0.29986154042251667;\n",
      "Epoch: 1500; Error: 0.22645245538590028;\n",
      "Epoch: 1600; Error: 0.43935965160593965;\n",
      "Epoch: 1700; Error: 0.37272675550251577;\n",
      "Epoch: 1800; Error: 0.32330584976970633;\n",
      "Epoch: 1900; Error: 0.30380820750367793;\n",
      "Epoch: 2000; Error: 0.29220099164260144;\n",
      "Epoch: 2100; Error: 0.28297164688366055;\n",
      "Epoch: 2200; Error: 0.2745353773365725;\n",
      "Epoch: 2300; Error: 0.2663455169122373;\n",
      "Epoch: 2400; Error: 0.25818141848202447;\n",
      "Epoch: 2500; Error: 0.24995809577826703;\n",
      "Epoch: 2600; Error: 0.24165472454184564;\n",
      "Epoch: 2700; Error: 0.2332857064716746;\n",
      "Epoch: 2800; Error: 0.22487270381132318;\n",
      "Epoch: 2900; Error: 0.21615506895538827;\n",
      "Epoch: 3000; Error: 0.1928931721360907;\n",
      "Epoch: 3100; Error: 0.09914529901514074;\n",
      "Epoch: 3200; Error: 0.1309832771452823;\n",
      "Epoch: 3300; Error: 0.2593636549326148;\n",
      "Epoch: 3400; Error: 0.19790286062019796;\n",
      "Epoch: 3500; Error: 0.16171205936541938;\n",
      "Epoch: 3600; Error: 0.14546365386498153;\n",
      "Epoch: 3700; Error: 0.13664037163160653;\n",
      "Epoch: 3800; Error: 0.1292989018546663;\n",
      "Epoch: 3900; Error: 0.12210589393867417;\n",
      "Epoch: 4000; Error: 0.11629056979053876;\n",
      "Epoch: 4100; Error: 0.11402813512314126;\n",
      "Epoch: 4200; Error: 0.14275314285085006;\n",
      "Epoch: 4300; Error: 0.19387941470698627;\n",
      "Epoch: 4400; Error: 0.1358968278513947;\n",
      "Epoch: 4500; Error: 0.12269880634341787;\n",
      "Epoch: 4600; Error: 0.12205920304603668;\n",
      "Epoch: 4700; Error: 0.1225293303269051;\n",
      "Epoch: 4800; Error: 0.12146883526966869;\n",
      "Epoch: 4900; Error: 0.12034757342261786;\n",
      "Epoch: 5000; Error: 0.10358594155285189;\n",
      "Epoch: 5100; Error: 0.06249799790522831;\n",
      "Epoch: 5200; Error: 0.05213705837288718;\n",
      "Epoch: 5300; Error: 0.07463715202363932;\n",
      "Epoch: 5400; Error: 0.11100482423035475;\n",
      "Epoch: 5500; Error: 0.11678266460101365;\n",
      "Epoch: 5600; Error: 0.10650205816524613;\n",
      "Epoch: 5700; Error: 0.1216170057706336;\n",
      "Epoch: 5800; Error: 0.09740161915151371;\n",
      "Epoch: 5900; Error: 0.07147244066332137;\n",
      "Epoch: 6000; Error: 0.06939907230561067;\n",
      "Epoch: 6100; Error: 0.08811926225442412;\n",
      "Epoch: 6200; Error: 0.09174991883475725;\n",
      "Epoch: 6300; Error: 0.0707504308628644;\n",
      "Epoch: 6400; Error: 0.06389767903933194;\n",
      "Epoch: 6500; Error: 0.06412658642220856;\n",
      "Epoch: 6600; Error: 0.06806962683248445;\n",
      "Epoch: 6700; Error: 0.09814809972399527;\n",
      "Epoch: 6800; Error: 0.11844531538775054;\n",
      "Epoch: 6900; Error: 0.0908479630490229;\n",
      "Epoch: 7000; Error: 0.06634821391477647;\n",
      "Epoch: 7100; Error: 0.060063070502130486;\n",
      "Epoch: 7200; Error: 0.061681795066540854;\n",
      "Epoch: 7300; Error: 0.06578286892899515;\n",
      "Epoch: 7400; Error: 0.07001664649625033;\n",
      "Epoch: 7500; Error: 0.08487291150850346;\n",
      "Epoch: 7600; Error: 0.06492300573349691;\n",
      "Epoch: 7700; Error: 0.047484214477457085;\n",
      "Epoch: 7800; Error: 0.04293971157910334;\n",
      "Epoch: 7900; Error: 0.04558800281811311;\n",
      "Epoch: 8000; Error: 0.06046580271872744;\n",
      "Epoch: 8100; Error: 0.09210642418404134;\n",
      "Epoch: 8200; Error: 0.08523582279022883;\n",
      "Epoch: 8300; Error: 0.08182512602239733;\n",
      "Epoch: 8400; Error: 0.06184668121698511;\n",
      "Epoch: 8500; Error: 0.05035336667792431;\n",
      "Epoch: 8600; Error: 0.047612808111469916;\n",
      "Epoch: 8700; Error: 0.04966581351334132;\n",
      "Epoch: 8800; Error: 0.05395915724931846;\n",
      "Epoch: 8900; Error: 0.06075067604860909;\n",
      "Epoch: 9000; Error: 0.07484366013542107;\n",
      "Epoch: 9100; Error: 0.057549088613918165;\n",
      "Epoch: 9200; Error: 0.04319944629942328;\n",
      "Epoch: 9300; Error: 0.03782571072636268;\n",
      "Epoch: 9400; Error: 0.037796679632487576;\n",
      "Epoch: 9500; Error: 0.04673223307542089;\n",
      "Epoch: 9600; Error: 0.0787641991444613;\n",
      "Epoch: 9700; Error: 0.07160227126298269;\n",
      "Epoch: 9800; Error: 0.06494745088128874;\n",
      "Epoch: 9900; Error: 0.05916653702348799;\n",
      "Epoch: 10000; Error: 0.04870393605834511;\n",
      "The maximum number of train epochs is reached\n"
     ]
    }
   ],
   "source": [
    "# Train the network\n",
    "error_progress = nn.train(data[:num_train,:], labels[:num_train,:], epochs=10000, show=100, goal=0.01)"
   ]
  },
  {
   "cell_type": "code",
   "execution_count": 64,
   "id": "d8c9b8be",
   "metadata": {},
   "outputs": [
    {
     "name": "stdout",
     "output_type": "stream",
     "text": [
      "\n",
      "Testing on unknown data:\n",
      "\n",
      "Original: o\n",
      "Predicted: o\n",
      "\n",
      "Original: m\n",
      "Predicted: n\n",
      "\n",
      "Original: m\n",
      "Predicted: n\n",
      "\n",
      "Original: a\n",
      "Predicted: o\n",
      "\n",
      "Original: n\n",
      "Predicted: n\n"
     ]
    }
   ],
   "source": [
    "# Predict the output for test inputs\n",
    "print('\\nTesting on unknown data:')\n",
    "predicted_test = nn.sim(data[num_train:, :])\n",
    "for i in range(num_test):\n",
    "    print('\\nOriginal:', orig_labels[np.argmax(labels[i])])\n",
    "    print('Predicted:', orig_labels[np.argmax(predicted_test[i])])"
   ]
  }
 ],
 "metadata": {
  "kernelspec": {
   "display_name": "Python 3 (ipykernel)",
   "language": "python",
   "name": "python3"
  },
  "language_info": {
   "codemirror_mode": {
    "name": "ipython",
    "version": 3
   },
   "file_extension": ".py",
   "mimetype": "text/x-python",
   "name": "python",
   "nbconvert_exporter": "python",
   "pygments_lexer": "ipython3",
   "version": "3.10.6"
  }
 },
 "nbformat": 4,
 "nbformat_minor": 5
}
