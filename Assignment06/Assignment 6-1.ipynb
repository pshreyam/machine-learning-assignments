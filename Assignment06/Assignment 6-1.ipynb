{
 "cells": [
  {
   "cell_type": "markdown",
   "id": "14401789",
   "metadata": {},
   "source": [
    "# Artificial Neural Networks\n",
    "## (Book: Artificial Intelligence with Python)"
   ]
  },
  {
   "cell_type": "code",
   "execution_count": 1,
   "id": "7065d045",
   "metadata": {
    "scrolled": true
   },
   "outputs": [],
   "source": [
    "# !pip install neurolab"
   ]
  },
  {
   "cell_type": "markdown",
   "id": "36094358",
   "metadata": {},
   "source": [
    "## Building a Perceptron based classifier"
   ]
  },
  {
   "cell_type": "code",
   "execution_count": 2,
   "id": "2ee2f929",
   "metadata": {},
   "outputs": [],
   "source": [
    "import numpy as np\n",
    "import matplotlib.pyplot as plt\n",
    "import neurolab as nl"
   ]
  },
  {
   "cell_type": "code",
   "execution_count": 3,
   "id": "22f54a24",
   "metadata": {},
   "outputs": [],
   "source": [
    "text = np.loadtxt(\"data_perceptron.txt\")"
   ]
  },
  {
   "cell_type": "code",
   "execution_count": 4,
   "id": "7cf2e058",
   "metadata": {},
   "outputs": [],
   "source": [
    "data = text[:, :2]\n",
    "labels = text[:, 2].reshape((text.shape[0], 1))"
   ]
  },
  {
   "cell_type": "code",
   "execution_count": 5,
   "id": "bd9282f4",
   "metadata": {},
   "outputs": [
    {
     "data": {
      "text/plain": [
       "array([[0.38, 0.19],\n",
       "       [0.17, 0.31],\n",
       "       [0.29, 0.54],\n",
       "       [0.89, 0.55],\n",
       "       [0.78, 0.36]])"
      ]
     },
     "execution_count": 5,
     "metadata": {},
     "output_type": "execute_result"
    }
   ],
   "source": [
    "data"
   ]
  },
  {
   "cell_type": "code",
   "execution_count": 6,
   "id": "4c63ae27",
   "metadata": {},
   "outputs": [
    {
     "data": {
      "text/plain": [
       "array([[0.],\n",
       "       [0.],\n",
       "       [0.],\n",
       "       [1.],\n",
       "       [1.]])"
      ]
     },
     "execution_count": 6,
     "metadata": {},
     "output_type": "execute_result"
    }
   ],
   "source": [
    "labels"
   ]
  },
  {
   "cell_type": "code",
   "execution_count": 7,
   "id": "8cdb3a3e",
   "metadata": {},
   "outputs": [
    {
     "data": {
      "text/plain": [
       "Text(0.5, 1.0, 'Input Data')"
      ]
     },
     "execution_count": 7,
     "metadata": {},
     "output_type": "execute_result"
    },
    {
     "data": {
      "image/png": "[encoded data removed]",
      "text/plain": [
       "<Figure size 432x288 with 1 Axes>"
      ]
     },
     "metadata": {
      "needs_background": "light"
     },
     "output_type": "display_data"
    }
   ],
   "source": [
    "plt.figure()\n",
    "plt.scatter(data[:, 0], data[:, 1])\n",
    "plt.xlabel(\"Dimension 1\")\n",
    "plt.ylabel(\"Dimension 2\")\n",
    "plt.title(\"Input Data\")"
   ]
  },
  {
   "cell_type": "code",
   "execution_count": 8,
   "id": "344c1894",
   "metadata": {},
   "outputs": [],
   "source": [
    "# Define minimum and maximum values for each dimensioon\n",
    "dim1_min, dim1_max, dim2_min, dim2_max = 0, 1, 0, 1"
   ]
  },
  {
   "cell_type": "code",
   "execution_count": 9,
   "id": "91a3f434",
   "metadata": {},
   "outputs": [],
   "source": [
    "# Number of neurons in the output layer\n",
    "num_output = labels.shape[1]"
   ]
  },
  {
   "cell_type": "code",
   "execution_count": 10,
   "id": "f4699e58",
   "metadata": {},
   "outputs": [],
   "source": [
    "# Define a perceptron with 2 input neurons (because we\n",
    "# have 2 dimensions in the input data)\n",
    "dim1 = [dim1_min, dim1_max]\n",
    "dim2 = [dim2_min, dim2_max]\n",
    "perceptron = nl.net.newp([dim1, dim2], num_output)"
   ]
  },
  {
   "cell_type": "code",
   "execution_count": 11,
   "id": "32734947",
   "metadata": {},
   "outputs": [
    {
     "name": "stdout",
     "output_type": "stream",
     "text": [
      "The goal of learning is reached\n"
     ]
    }
   ],
   "source": [
    "# Train the perceptron using the data\n",
    "error_progress = perceptron.train(data, labels, epochs=100, show=20,\n",
    "                                  lr=0.03)"
   ]
  },
  {
   "cell_type": "code",
   "execution_count": 12,
   "id": "e5e7c023",
   "metadata": {},
   "outputs": [
    {
     "data": {
      "image/png": "[encoded data removed]",
      "text/plain": [
       "<Figure size 432x288 with 1 Axes>"
      ]
     },
     "metadata": {
      "needs_background": "light"
     },
     "output_type": "display_data"
    }
   ],
   "source": [
    "# Plot the learning process\n",
    "plt.figure()\n",
    "plt.plot(error_progress)\n",
    "plt.xlabel(\"Number of epochs\")\n",
    "plt.ylabel(\"Training error\")\n",
    "plt.title(\"Training error progress\")\n",
    "\n",
    "plt.grid()\n",
    "plt.show()"
   ]
  },
  {
   "cell_type": "markdown",
   "id": "6093de5d",
   "metadata": {},
   "source": [
    "## Constructing a single layer neural network\n",
    "\n",
    "Since a perceptron is not that powerful, we build a set of neurons to form a unit."
   ]
  },
  {
   "cell_type": "code",
   "execution_count": 13,
   "id": "c33fa774",
   "metadata": {},
   "outputs": [],
   "source": [
    "text = np.loadtxt(\"data_simple_nn.txt\")"
   ]
  },
  {
   "cell_type": "code",
   "execution_count": 14,
   "id": "3b8c31ea",
   "metadata": {},
   "outputs": [],
   "source": [
    "data = text[:, :2]\n",
    "labels = text[:, 2:]"
   ]
  },
  {
   "cell_type": "code",
   "execution_count": 15,
   "id": "064481c1",
   "metadata": {},
   "outputs": [
    {
     "data": {
      "text/plain": [
       "array([[1. , 4. ],\n",
       "       [1.1, 3.9],\n",
       "       [1.2, 4.1],\n",
       "       [0.9, 3.7],\n",
       "       [7. , 4. ],\n",
       "       [7.2, 4.1],\n",
       "       [6.9, 3.9],\n",
       "       [7.1, 4.2],\n",
       "       [4. , 1. ],\n",
       "       [4.1, 0.9],\n",
       "       [4.2, 1.1],\n",
       "       [3.9, 0.8],\n",
       "       [4. , 7. ],\n",
       "       [4.2, 7.2],\n",
       "       [3.9, 7.1],\n",
       "       [4.1, 6.8]])"
      ]
     },
     "execution_count": 15,
     "metadata": {},
     "output_type": "execute_result"
    }
   ],
   "source": [
    "data"
   ]
  },
  {
   "cell_type": "code",
   "execution_count": 16,
   "id": "0a3ba519",
   "metadata": {},
   "outputs": [
    {
     "data": {
      "text/plain": [
       "array([[0., 0.],\n",
       "       [0., 0.],\n",
       "       [0., 0.],\n",
       "       [0., 0.],\n",
       "       [0., 1.],\n",
       "       [0., 1.],\n",
       "       [0., 1.],\n",
       "       [0., 1.],\n",
       "       [1., 0.],\n",
       "       [1., 0.],\n",
       "       [1., 0.],\n",
       "       [1., 0.],\n",
       "       [1., 1.],\n",
       "       [1., 1.],\n",
       "       [1., 1.],\n",
       "       [1., 1.]])"
      ]
     },
     "execution_count": 16,
     "metadata": {},
     "output_type": "execute_result"
    }
   ],
   "source": [
    "labels"
   ]
  },
  {
   "cell_type": "code",
   "execution_count": 17,
   "id": "63550ad8",
   "metadata": {},
   "outputs": [
    {
     "data": {
      "text/plain": [
       "Text(0.5, 1.0, 'Input data')"
      ]
     },
     "execution_count": 17,
     "metadata": {},
     "output_type": "execute_result"
    },
    {
     "data": {
      "image/png": "[encoded data removed]",
      "text/plain": [
       "<Figure size 432x288 with 1 Axes>"
      ]
     },
     "metadata": {
      "needs_background": "light"
     },
     "output_type": "display_data"
    }
   ],
   "source": [
    "plt.figure()\n",
    "plt.scatter(data[:, 0], data[:, 1])\n",
    "plt.xlabel(\"Dimension 1\")\n",
    "plt.ylabel(\"Dimension 2\")\n",
    "plt.title(\"Input data\")"
   ]
  },
  {
   "cell_type": "code",
   "execution_count": 18,
   "id": "b55d6355",
   "metadata": {},
   "outputs": [],
   "source": [
    "# Minimum and maximum values for each dimension\n",
    "dim1_min, dim1_max = data[:,0].min(), data[:,0].max()\n",
    "dim2_min, dim2_max = data[:,1].min(), data[:,1].max()"
   ]
  },
  {
   "cell_type": "code",
   "execution_count": 19,
   "id": "f510dc8d",
   "metadata": {},
   "outputs": [],
   "source": [
    "# Define the number of neurons in the output layer\n",
    "num_output = labels.shape[1]"
   ]
  },
  {
   "cell_type": "code",
   "execution_count": 20,
   "id": "68c4a007",
   "metadata": {},
   "outputs": [],
   "source": [
    "# Define a single-layer neural network\n",
    "dim1 = [dim1_min, dim1_max]\n",
    "dim2 = [dim2_min, dim2_max]\n",
    "nn = nl.net.newp([dim1, dim2], num_output)"
   ]
  },
  {
   "cell_type": "code",
   "execution_count": 21,
   "id": "3cb3efae",
   "metadata": {},
   "outputs": [
    {
     "name": "stdout",
     "output_type": "stream",
     "text": [
      "Epoch: 20; Error: 4.0;\n",
      "Epoch: 40; Error: 4.0;\n",
      "Epoch: 60; Error: 4.0;\n",
      "Epoch: 80; Error: 4.0;\n",
      "Epoch: 100; Error: 4.0;\n",
      "The maximum number of train epochs is reached\n"
     ]
    }
   ],
   "source": [
    "# Train the neural network\n",
    "error_progress = nn.train(data, labels, epochs=100, show=20, lr=0.03)"
   ]
  },
  {
   "cell_type": "code",
   "execution_count": 22,
   "id": "e7240e23",
   "metadata": {},
   "outputs": [
    {
     "data": {
      "image/png": "[encoded data removed]",
      "text/plain": [
       "<Figure size 432x288 with 1 Axes>"
      ]
     },
     "metadata": {
      "needs_background": "light"
     },
     "output_type": "display_data"
    }
   ],
   "source": [
    "# Plot the training progress\n",
    "plt.figure()\n",
    "plt.plot(error_progress)\n",
    "plt.xlabel(\"Number of epochs\")\n",
    "plt.ylabel(\"Training error\")\n",
    "plt.title(\"Training error progress\")\n",
    "plt.grid()\n",
    "plt.show()"
   ]
  },
  {
   "cell_type": "code",
   "execution_count": 23,
   "id": "e436222e",
   "metadata": {},
   "outputs": [
    {
     "name": "stdout",
     "output_type": "stream",
     "text": [
      "Test results:\n",
      "[0.4, 4.3] --> [0. 0.]\n",
      "[4.4, 0.6] --> [1. 0.]\n",
      "[4.7, 8.1] --> [1. 1.]\n"
     ]
    }
   ],
   "source": [
    "# Run the classifier on test datapoints\n",
    "print(\"Test results:\")\n",
    "data_test = [[0.4, 4.3], [4.4, 0.6], [4.7, 8.1]]\n",
    "for item in data_test:\n",
    "    print(item, \"-->\", nn.sim([item])[0])"
   ]
  },
  {
   "cell_type": "markdown",
   "id": "c06ae09c",
   "metadata": {},
   "source": [
    "## Constructing a multilayer neural network\n",
    "Using neural network as regressor instead of classifier as above"
   ]
  },
  {
   "cell_type": "code",
   "execution_count": 24,
   "id": "02d735c7",
   "metadata": {},
   "outputs": [],
   "source": [
    "# Generate some training data based on y = 3.x^2 + 5 \n",
    "# and normalize the points\n",
    "min_val = -15\n",
    "max_val = 15\n",
    "num_points = 130\n",
    "x = np.linspace(min_val, max_val, num_points)\n",
    "y = 3 * np.square(x) + 5\n",
    "y /= np.linalg.norm(y)"
   ]
  },
  {
   "cell_type": "code",
   "execution_count": 25,
   "id": "52ad7da4",
   "metadata": {},
   "outputs": [],
   "source": [
    "# Create data and labels\n",
    "data = x.reshape(num_points, 1)\n",
    "labels = y.reshape(num_points, 1)"
   ]
  },
  {
   "cell_type": "code",
   "execution_count": 26,
   "id": "c8404abe",
   "metadata": {},
   "outputs": [
    {
     "data": {
      "text/plain": [
       "array([[-15.        ],\n",
       "       [-14.76744186],\n",
       "       [-14.53488372],\n",
       "       [-14.30232558],\n",
       "       [-14.06976744]])"
      ]
     },
     "execution_count": 26,
     "metadata": {},
     "output_type": "execute_result"
    }
   ],
   "source": [
    "data[:5]"
   ]
  },
  {
   "cell_type": "code",
   "execution_count": 27,
   "id": "ec3364f2",
   "metadata": {},
   "outputs": [
    {
     "data": {
      "text/plain": [
       "array([[0.19221203],\n",
       "       [0.18634166],\n",
       "       [0.18056301],\n",
       "       [0.17487608],\n",
       "       [0.16928088]])"
      ]
     },
     "execution_count": 27,
     "metadata": {},
     "output_type": "execute_result"
    }
   ],
   "source": [
    "labels[:5]"
   ]
  },
  {
   "cell_type": "code",
   "execution_count": 28,
   "id": "3b620c95",
   "metadata": {},
   "outputs": [
    {
     "data": {
      "text/plain": [
       "Text(0.5, 1.0, 'Input data')"
      ]
     },
     "execution_count": 28,
     "metadata": {},
     "output_type": "execute_result"
    },
    {
     "data": {
      "image/png": "[encoded data removed]",
      "text/plain": [
       "<Figure size 432x288 with 1 Axes>"
      ]
     },
     "metadata": {
      "needs_background": "light"
     },
     "output_type": "display_data"
    }
   ],
   "source": [
    "# Plot input data\n",
    "plt.figure()\n",
    "plt.scatter(data, labels)\n",
    "plt.xlabel(\"Dimension 1\")\n",
    "plt.ylabel(\"Dimension 2\")\n",
    "plt.title(\"Input data\")"
   ]
  },
  {
   "cell_type": "code",
   "execution_count": 29,
   "id": "7f85fc12",
   "metadata": {},
   "outputs": [],
   "source": [
    "# Define a multilayer neural network with 2 hidden layers;\n",
    "# First hidden layer consists of 10 neurons\n",
    "# Second hidden layer consists of 6 neurons\n",
    "# Output layer consists of 1 neuron\n",
    "nn = nl.net.newff([[min_val, max_val]], [10, 6, 1])"
   ]
  },
  {
   "cell_type": "code",
   "execution_count": 30,
   "id": "89bb45c9",
   "metadata": {},
   "outputs": [],
   "source": [
    "# Set the training algorithm to gradient descent\n",
    "nn.trainf = nl.train.train_gd"
   ]
  },
  {
   "cell_type": "code",
   "execution_count": 31,
   "id": "cfa98d60",
   "metadata": {},
   "outputs": [
    {
     "name": "stdout",
     "output_type": "stream",
     "text": [
      "Epoch: 100; Error: 0.40664317625758173;\n",
      "Epoch: 200; Error: 0.023401343882302913;\n",
      "Epoch: 300; Error: 0.01314505932107596;\n",
      "Epoch: 400; Error: 0.01319016115207398;\n",
      "Epoch: 500; Error: 0.06894837164965616;\n",
      "Epoch: 600; Error: 0.048978621899197966;\n",
      "Epoch: 700; Error: 0.03189809126162879;\n",
      "Epoch: 800; Error: 0.026530463258949526;\n",
      "The goal of learning is reached\n"
     ]
    }
   ],
   "source": [
    "# Train the neural network\n",
    "error_progress = nn.train(data, labels, epochs=2000, show=100, goal=0.01)"
   ]
  },
  {
   "cell_type": "code",
   "execution_count": 32,
   "id": "e669092e",
   "metadata": {},
   "outputs": [],
   "source": [
    "# Run the neural network on training datapoints\n",
    "output = nn.sim(data)\n",
    "y_pred = output.reshape(num_points)"
   ]
  },
  {
   "cell_type": "code",
   "execution_count": 33,
   "id": "21f8a18d",
   "metadata": {},
   "outputs": [
    {
     "data": {
      "text/plain": [
       "array([[0.16000774],\n",
       "       [0.15945152],\n",
       "       [0.1588917 ],\n",
       "       [0.15840054],\n",
       "       [0.15797819]])"
      ]
     },
     "execution_count": 33,
     "metadata": {},
     "output_type": "execute_result"
    }
   ],
   "source": [
    "output[:5]"
   ]
  },
  {
   "cell_type": "code",
   "execution_count": 34,
   "id": "5208eff3",
   "metadata": {},
   "outputs": [
    {
     "data": {
      "text/plain": [
       "Text(0.5, 1.0, 'Training error progress')"
      ]
     },
     "execution_count": 34,
     "metadata": {},
     "output_type": "execute_result"
    },
    {
     "data": {
      "image/png": "[encoded data removed]",
      "text/plain": [
       "<Figure size 432x288 with 1 Axes>"
      ]
     },
     "metadata": {
      "needs_background": "light"
     },
     "output_type": "display_data"
    }
   ],
   "source": [
    "# Plot training error\n",
    "plt.figure()\n",
    "plt.plot(error_progress)\n",
    "plt.xlabel(\"Number of epochs\")\n",
    "plt.ylabel(\"Error\")\n",
    "plt.title(\"Training error progress\")"
   ]
  },
  {
   "cell_type": "code",
   "execution_count": 35,
   "id": "b199ba75",
   "metadata": {},
   "outputs": [
    {
     "data": {
      "image/png": "[encoded data removed]",
      "text/plain": [
       "<Figure size 432x288 with 1 Axes>"
      ]
     },
     "metadata": {
      "needs_background": "light"
     },
     "output_type": "display_data"
    }
   ],
   "source": [
    "# Plot the output\n",
    "x_dense = np.linspace(min_val, max_val, num_points * 2)\n",
    "y_dense_pred = nn.sim(x_dense.reshape(x_dense.size,1)).reshape(x_dense.size)\n",
    "plt.figure()\n",
    "plt.plot(x_dense, y_dense_pred, \"-\", x, y, \".\", x, y_pred, \"p\")\n",
    "plt.title(\"Actual vs predicted\")\n",
    "plt.show()"
   ]
  },
  {
   "cell_type": "markdown",
   "id": "8df7bb07",
   "metadata": {},
   "source": [
    "## Building a vector quantizer"
   ]
  },
  {
   "cell_type": "code",
   "execution_count": 36,
   "id": "bdd47a58",
   "metadata": {},
   "outputs": [],
   "source": [
    "text = np.loadtxt(\"data_vector_quantization.txt\")"
   ]
  },
  {
   "cell_type": "code",
   "execution_count": 37,
   "id": "2deaf5b2",
   "metadata": {},
   "outputs": [],
   "source": [
    "data = text[:, 0:2]\n",
    "labels = text[:, 2:]"
   ]
  },
  {
   "cell_type": "code",
   "execution_count": 38,
   "id": "c7301b1a",
   "metadata": {},
   "outputs": [
    {
     "data": {
      "text/plain": [
       "array([[0.9, 5.1],\n",
       "       [1.2, 4.8],\n",
       "       [1. , 4.9],\n",
       "       [0.8, 5.2],\n",
       "       [8. , 4.1]])"
      ]
     },
     "execution_count": 38,
     "metadata": {},
     "output_type": "execute_result"
    }
   ],
   "source": [
    "data[:5]"
   ]
  },
  {
   "cell_type": "code",
   "execution_count": 39,
   "id": "37c86e48",
   "metadata": {},
   "outputs": [
    {
     "data": {
      "text/plain": [
       "array([[1., 0., 0., 0.],\n",
       "       [1., 0., 0., 0.],\n",
       "       [1., 0., 0., 0.],\n",
       "       [1., 0., 0., 0.],\n",
       "       [0., 1., 0., 0.]])"
      ]
     },
     "execution_count": 39,
     "metadata": {},
     "output_type": "execute_result"
    }
   ],
   "source": [
    "labels[:5]"
   ]
  },
  {
   "cell_type": "code",
   "execution_count": 43,
   "id": "edb148d7",
   "metadata": {},
   "outputs": [
    {
     "ename": "TypeError",
     "evalue": "slice indices must be integers or None or have an __index__ method",
     "output_type": "error",
     "traceback": [
      "\u001b[0;31m---------------------------------------------------------------------------\u001b[0m",
      "\u001b[0;31mTypeError\u001b[0m                                 Traceback (most recent call last)",
      "Input \u001b[0;32mIn [43]\u001b[0m, in \u001b[0;36m<cell line: 4>\u001b[0;34m()\u001b[0m\n\u001b[1;32m      2\u001b[0m num_output_neurons \u001b[38;5;241m=\u001b[39m \u001b[38;5;241m4\u001b[39m\n\u001b[1;32m      3\u001b[0m weights \u001b[38;5;241m=\u001b[39m [\u001b[38;5;241m1\u001b[39m\u001b[38;5;241m/\u001b[39mnum_output_neurons] \u001b[38;5;241m*\u001b[39m num_output_neurons\n\u001b[0;32m----> 4\u001b[0m nn \u001b[38;5;241m=\u001b[39m \u001b[43mnl\u001b[49m\u001b[38;5;241;43m.\u001b[39;49m\u001b[43mnet\u001b[49m\u001b[38;5;241;43m.\u001b[39;49m\u001b[43mnewlvq\u001b[49m\u001b[43m(\u001b[49m\u001b[43mnl\u001b[49m\u001b[38;5;241;43m.\u001b[39;49m\u001b[43mtool\u001b[49m\u001b[38;5;241;43m.\u001b[39;49m\u001b[43mminmax\u001b[49m\u001b[43m(\u001b[49m\u001b[43mdata\u001b[49m\u001b[43m)\u001b[49m\u001b[43m,\u001b[49m\u001b[43m \u001b[49m\u001b[43mnum_input_neurons\u001b[49m\u001b[43m,\u001b[49m\u001b[43m \u001b[49m\u001b[43mweights\u001b[49m\u001b[43m)\u001b[49m\n",
      "File \u001b[0;32m~/.local/lib/python3.10/site-packages/neurolab/net.py:179\u001b[0m, in \u001b[0;36mnewlvq\u001b[0;34m(minmax, cn0, pc)\u001b[0m\n\u001b[1;32m    177\u001b[0m \u001b[38;5;28;01mfor\u001b[39;00m n, i \u001b[38;5;129;01min\u001b[39;00m \u001b[38;5;28menumerate\u001b[39m(inx):\n\u001b[1;32m    178\u001b[0m     st \u001b[38;5;241m=\u001b[39m \u001b[38;5;241m0\u001b[39m \u001b[38;5;28;01mif\u001b[39;00m n \u001b[38;5;241m==\u001b[39m \u001b[38;5;241m0\u001b[39m \u001b[38;5;28;01melse\u001b[39;00m inx[n \u001b[38;5;241m-\u001b[39m \u001b[38;5;241m1\u001b[39m]\n\u001b[0;32m--> 179\u001b[0m     \u001b[43mlayer_out\u001b[49m\u001b[38;5;241;43m.\u001b[39;49m\u001b[43mnp\u001b[49m\u001b[43m[\u001b[49m\u001b[38;5;124;43m'\u001b[39;49m\u001b[38;5;124;43mw\u001b[39;49m\u001b[38;5;124;43m'\u001b[39;49m\u001b[43m]\u001b[49m\u001b[43m[\u001b[49m\u001b[43mn\u001b[49m\u001b[43m]\u001b[49m\u001b[43m[\u001b[49m\u001b[43mst\u001b[49m\u001b[43m:\u001b[49m\u001b[43mi\u001b[49m\u001b[43m]\u001b[49m\u001b[38;5;241m.\u001b[39mfill(\u001b[38;5;241m1.0\u001b[39m)\n\u001b[1;32m    180\u001b[0m net \u001b[38;5;241m=\u001b[39m Net(minmax, cn1, [layer_inp, layer_out],\n\u001b[1;32m    181\u001b[0m                         [[\u001b[38;5;241m-\u001b[39m\u001b[38;5;241m1\u001b[39m], [\u001b[38;5;241m0\u001b[39m], [\u001b[38;5;241m1\u001b[39m]], train\u001b[38;5;241m.\u001b[39mtrain_lvq, error\u001b[38;5;241m.\u001b[39mMSE())\n\u001b[1;32m    183\u001b[0m \u001b[38;5;28;01mreturn\u001b[39;00m net\n",
      "\u001b[0;31mTypeError\u001b[0m: slice indices must be integers or None or have an __index__ method"
     ]
    }
   ],
   "source": [
    "num_input_neurons = 10\n",
    "num_output_neurons = 4\n",
    "weights = [1/num_output_neurons] * num_output_neurons\n",
    "nn = nl.net.newlvq(nl.tool.minmax(data), num_input_neurons, weights)"
   ]
  },
  {
   "cell_type": "code",
   "execution_count": 44,
   "id": "3cd350e9",
   "metadata": {},
   "outputs": [
    {
     "ename": "AssertionError",
     "evalue": "",
     "output_type": "error",
     "traceback": [
      "\u001b[0;31m---------------------------------------------------------------------------\u001b[0m",
      "\u001b[0;31mAssertionError\u001b[0m                            Traceback (most recent call last)",
      "Input \u001b[0;32mIn [44]\u001b[0m, in \u001b[0;36m<cell line: 2>\u001b[0;34m()\u001b[0m\n\u001b[1;32m      1\u001b[0m \u001b[38;5;66;03m# Train the neural network\u001b[39;00m\n\u001b[0;32m----> 2\u001b[0m _ \u001b[38;5;241m=\u001b[39m \u001b[43mnn\u001b[49m\u001b[38;5;241;43m.\u001b[39;49m\u001b[43mtrain\u001b[49m\u001b[43m(\u001b[49m\u001b[43mdata\u001b[49m\u001b[43m,\u001b[49m\u001b[43m \u001b[49m\u001b[43mlabels\u001b[49m\u001b[43m,\u001b[49m\u001b[43m \u001b[49m\u001b[43mepochs\u001b[49m\u001b[38;5;241;43m=\u001b[39;49m\u001b[38;5;241;43m500\u001b[39;49m\u001b[43m,\u001b[49m\u001b[43m \u001b[49m\u001b[43mgoal\u001b[49m\u001b[38;5;241;43m=\u001b[39;49m\u001b[38;5;241;43m-\u001b[39;49m\u001b[38;5;241;43m1\u001b[39;49m\u001b[43m)\u001b[49m\n",
      "File \u001b[0;32m~/.local/lib/python3.10/site-packages/neurolab/core.py:165\u001b[0m, in \u001b[0;36mNet.train\u001b[0;34m(self, *args, **kwargs)\u001b[0m\n\u001b[1;32m    159\u001b[0m \u001b[38;5;28;01mdef\u001b[39;00m \u001b[38;5;21mtrain\u001b[39m(\u001b[38;5;28mself\u001b[39m, \u001b[38;5;241m*\u001b[39margs, \u001b[38;5;241m*\u001b[39m\u001b[38;5;241m*\u001b[39mkwargs):\n\u001b[1;32m    160\u001b[0m     \u001b[38;5;124;03m\"\"\"\u001b[39;00m\n\u001b[1;32m    161\u001b[0m \u001b[38;5;124;03m    Train network\u001b[39;00m\n\u001b[1;32m    162\u001b[0m \u001b[38;5;124;03m    see net.trainf.__doc__\u001b[39;00m\n\u001b[1;32m    163\u001b[0m \n\u001b[1;32m    164\u001b[0m \u001b[38;5;124;03m    \"\"\"\u001b[39;00m\n\u001b[0;32m--> 165\u001b[0m     \u001b[38;5;28;01mreturn\u001b[39;00m \u001b[38;5;28;43mself\u001b[39;49m\u001b[38;5;241;43m.\u001b[39;49m\u001b[43mtrainf\u001b[49m\u001b[43m(\u001b[49m\u001b[38;5;28;43mself\u001b[39;49m\u001b[43m,\u001b[49m\u001b[43m \u001b[49m\u001b[38;5;241;43m*\u001b[39;49m\u001b[43margs\u001b[49m\u001b[43m,\u001b[49m\u001b[43m \u001b[49m\u001b[38;5;241;43m*\u001b[39;49m\u001b[38;5;241;43m*\u001b[39;49m\u001b[43mkwargs\u001b[49m\u001b[43m)\u001b[49m\n",
      "File \u001b[0;32m~/.local/lib/python3.10/site-packages/neurolab/core.py:322\u001b[0m, in \u001b[0;36mTrainer.__call__\u001b[0;34m(self, net, input, target, **kwargs)\u001b[0m\n\u001b[1;32m    320\u001b[0m \u001b[38;5;28minput\u001b[39m \u001b[38;5;241m=\u001b[39m np\u001b[38;5;241m.\u001b[39masfarray(\u001b[38;5;28minput\u001b[39m)\n\u001b[1;32m    321\u001b[0m \u001b[38;5;28;01massert\u001b[39;00m \u001b[38;5;28minput\u001b[39m\u001b[38;5;241m.\u001b[39mndim \u001b[38;5;241m==\u001b[39m \u001b[38;5;241m2\u001b[39m\n\u001b[0;32m--> 322\u001b[0m \u001b[38;5;28;01massert\u001b[39;00m \u001b[38;5;28minput\u001b[39m\u001b[38;5;241m.\u001b[39mshape[\u001b[38;5;241m1\u001b[39m] \u001b[38;5;241m==\u001b[39m net\u001b[38;5;241m.\u001b[39mci\n\u001b[1;32m    323\u001b[0m args\u001b[38;5;241m.\u001b[39mappend(\u001b[38;5;28minput\u001b[39m)\n\u001b[1;32m    324\u001b[0m \u001b[38;5;28;01mif\u001b[39;00m target \u001b[38;5;129;01mis\u001b[39;00m \u001b[38;5;129;01mnot\u001b[39;00m \u001b[38;5;28;01mNone\u001b[39;00m:\n",
      "\u001b[0;31mAssertionError\u001b[0m: "
     ]
    }
   ],
   "source": [
    "# Train the neural network\n",
    "_ = nn.train(data, labels, epochs=500, goal=-1)"
   ]
  },
  {
   "cell_type": "code",
   "execution_count": 46,
   "id": "09790a20",
   "metadata": {},
   "outputs": [
    {
     "ename": "TypeError",
     "evalue": "'tuple' object cannot be interpreted as an integer",
     "output_type": "error",
     "traceback": [
      "\u001b[0;31m---------------------------------------------------------------------------\u001b[0m",
      "\u001b[0;31mTypeError\u001b[0m                                 Traceback (most recent call last)",
      "Input \u001b[0;32mIn [46]\u001b[0m, in \u001b[0;36m<cell line: 4>\u001b[0;34m()\u001b[0m\n\u001b[1;32m      2\u001b[0m xx, yy \u001b[38;5;241m=\u001b[39m np\u001b[38;5;241m.\u001b[39mmeshgrid(np\u001b[38;5;241m.\u001b[39marange(\u001b[38;5;241m0\u001b[39m, \u001b[38;5;241m10\u001b[39m, \u001b[38;5;241m0.2\u001b[39m), np\u001b[38;5;241m.\u001b[39marange(\u001b[38;5;241m0\u001b[39m, \u001b[38;5;241m10\u001b[39m, \u001b[38;5;241m0.2\u001b[39m))\n\u001b[1;32m      3\u001b[0m xx\u001b[38;5;241m.\u001b[39mshape \u001b[38;5;241m=\u001b[39m xx\u001b[38;5;241m.\u001b[39msize, \u001b[38;5;241m1\u001b[39m\n\u001b[0;32m----> 4\u001b[0m yy\u001b[38;5;241m.\u001b[39mshape \u001b[38;5;241m=\u001b[39m yy\u001b[38;5;241m.\u001b[39mshape, \u001b[38;5;241m1\u001b[39m\n\u001b[1;32m      5\u001b[0m grid_xy \u001b[38;5;241m=\u001b[39m np\u001b[38;5;241m.\u001b[39mconcatenate((xx, yy), axis\u001b[38;5;241m=\u001b[39m\u001b[38;5;241m1\u001b[39m)\n",
      "\u001b[0;31mTypeError\u001b[0m: 'tuple' object cannot be interpreted as an integer"
     ]
    }
   ],
   "source": [
    "# Create the input grid\n",
    "xx, yy = np.meshgrid(np.arange(0, 10, 0.2), np.arange(0, 10, 0.2))\n",
    "xx.shape = xx.size, 1\n",
    "yy.shape = yy.shape, 1\n",
    "grid_xy = np.concatenate((xx, yy), axis=1)"
   ]
  },
  {
   "cell_type": "code",
   "execution_count": 47,
   "id": "fb3ae2c0",
   "metadata": {},
   "outputs": [],
   "source": [
    "# Define the 4 classes\n",
    "class_1 = data[labels[:,0] == 1]\n",
    "class_2 = data[labels[:,1] == 1]\n",
    "class_3 = data[labels[:,2] == 1]\n",
    "class_4 = data[labels[:,3] == 1]"
   ]
  },
  {
   "cell_type": "code",
   "execution_count": 48,
   "id": "7a22fa06",
   "metadata": {},
   "outputs": [
    {
     "ename": "NameError",
     "evalue": "name 'grid_xy' is not defined",
     "output_type": "error",
     "traceback": [
      "\u001b[0;31m---------------------------------------------------------------------------\u001b[0m",
      "\u001b[0;31mNameError\u001b[0m                                 Traceback (most recent call last)",
      "Input \u001b[0;32mIn [48]\u001b[0m, in \u001b[0;36m<cell line: 2>\u001b[0;34m()\u001b[0m\n\u001b[1;32m      1\u001b[0m \u001b[38;5;66;03m# Define X-Y grids for all the 4 classes\u001b[39;00m\n\u001b[0;32m----> 2\u001b[0m grid_1 \u001b[38;5;241m=\u001b[39m \u001b[43mgrid_xy\u001b[49m[grid_eval[:,\u001b[38;5;241m0\u001b[39m] \u001b[38;5;241m==\u001b[39m \u001b[38;5;241m1\u001b[39m]\n\u001b[1;32m      3\u001b[0m grid_2 \u001b[38;5;241m=\u001b[39m grid_xy[grid_eval[:,\u001b[38;5;241m1\u001b[39m] \u001b[38;5;241m==\u001b[39m \u001b[38;5;241m1\u001b[39m]\n\u001b[1;32m      4\u001b[0m grid_3 \u001b[38;5;241m=\u001b[39m grid_xy[grid_eval[:,\u001b[38;5;241m2\u001b[39m] \u001b[38;5;241m==\u001b[39m \u001b[38;5;241m1\u001b[39m]\n",
      "\u001b[0;31mNameError\u001b[0m: name 'grid_xy' is not defined"
     ]
    }
   ],
   "source": [
    "# Define X-Y grids for all the 4 classes\n",
    "grid_1 = grid_xy[grid_eval[:,0] == 1]\n",
    "grid_2 = grid_xy[grid_eval[:,1] == 1]\n",
    "grid_3 = grid_xy[grid_eval[:,2] == 1]\n",
    "grid_4 = grid_xy[grid_eval[:,3] == 1]"
   ]
  },
  {
   "cell_type": "code",
   "execution_count": 49,
   "id": "0ac2e8c3",
   "metadata": {},
   "outputs": [
    {
     "ename": "NameError",
     "evalue": "name 'grid_1' is not defined",
     "output_type": "error",
     "traceback": [
      "\u001b[0;31m---------------------------------------------------------------------------\u001b[0m",
      "\u001b[0;31mNameError\u001b[0m                                 Traceback (most recent call last)",
      "Input \u001b[0;32mIn [49]\u001b[0m, in \u001b[0;36m<cell line: 6>\u001b[0;34m()\u001b[0m\n\u001b[1;32m      1\u001b[0m \u001b[38;5;66;03m# Plot the outputs\u001b[39;00m\n\u001b[1;32m      2\u001b[0m plt\u001b[38;5;241m.\u001b[39mplot(class_1[:,\u001b[38;5;241m0\u001b[39m], class_1[:,\u001b[38;5;241m1\u001b[39m], \u001b[38;5;124m\"\u001b[39m\u001b[38;5;124mko\u001b[39m\u001b[38;5;124m\"\u001b[39m,\n\u001b[1;32m      3\u001b[0m         class_2[:,\u001b[38;5;241m0\u001b[39m], class_2[:,\u001b[38;5;241m1\u001b[39m], \u001b[38;5;124m\"\u001b[39m\u001b[38;5;124mko\u001b[39m\u001b[38;5;124m\"\u001b[39m,\n\u001b[1;32m      4\u001b[0m         class_3[:,\u001b[38;5;241m0\u001b[39m], class_3[:,\u001b[38;5;241m1\u001b[39m], \u001b[38;5;124m\"\u001b[39m\u001b[38;5;124mko\u001b[39m\u001b[38;5;124m\"\u001b[39m,\n\u001b[1;32m      5\u001b[0m         class_4[:,\u001b[38;5;241m0\u001b[39m], class_4[:,\u001b[38;5;241m1\u001b[39m], \u001b[38;5;124m\"\u001b[39m\u001b[38;5;124mko\u001b[39m\u001b[38;5;124m\"\u001b[39m)\n\u001b[0;32m----> 6\u001b[0m plt\u001b[38;5;241m.\u001b[39mplot(\u001b[43mgrid_1\u001b[49m[:,\u001b[38;5;241m0\u001b[39m], grid_1[:,\u001b[38;5;241m1\u001b[39m], \u001b[38;5;124m\"\u001b[39m\u001b[38;5;124mm.\u001b[39m\u001b[38;5;124m\"\u001b[39m,\n\u001b[1;32m      7\u001b[0m         grid_2[:,\u001b[38;5;241m0\u001b[39m], grid_2[:,\u001b[38;5;241m1\u001b[39m], \u001b[38;5;124m\"\u001b[39m\u001b[38;5;124mbx\u001b[39m\u001b[38;5;124m\"\u001b[39m,\n\u001b[1;32m      8\u001b[0m         grid_3[:,\u001b[38;5;241m0\u001b[39m], grid_3[:,\u001b[38;5;241m1\u001b[39m], \u001b[38;5;124m\"\u001b[39m\u001b[38;5;124mc^\u001b[39m\u001b[38;5;124m\"\u001b[39m,\n\u001b[1;32m      9\u001b[0m         grid_4[:,\u001b[38;5;241m0\u001b[39m], grid_4[:,\u001b[38;5;241m1\u001b[39m], \u001b[38;5;124m\"\u001b[39m\u001b[38;5;124my+\u001b[39m\u001b[38;5;124m\"\u001b[39m)\n\u001b[1;32m     10\u001b[0m plt\u001b[38;5;241m.\u001b[39maxis([\u001b[38;5;241m0\u001b[39m, \u001b[38;5;241m10\u001b[39m, \u001b[38;5;241m0\u001b[39m, \u001b[38;5;241m10\u001b[39m])\n\u001b[1;32m     11\u001b[0m plt\u001b[38;5;241m.\u001b[39mxlabel(\u001b[38;5;124m\"\u001b[39m\u001b[38;5;124mDimension 1\u001b[39m\u001b[38;5;124m\"\u001b[39m)\n",
      "\u001b[0;31mNameError\u001b[0m: name 'grid_1' is not defined"
     ]
    },
    {
     "data": {
      "image/png": "[encoded data removed]",
      "text/plain": [
       "<Figure size 432x288 with 1 Axes>"
      ]
     },
     "metadata": {
      "needs_background": "light"
     },
     "output_type": "display_data"
    }
   ],
   "source": [
    "# Plot the outputs\n",
    "plt.plot(class_1[:,0], class_1[:,1], \"ko\",\n",
    "        class_2[:,0], class_2[:,1], \"ko\",\n",
    "        class_3[:,0], class_3[:,1], \"ko\",\n",
    "        class_4[:,0], class_4[:,1], \"ko\")\n",
    "plt.plot(grid_1[:,0], grid_1[:,1], \"m.\",\n",
    "        grid_2[:,0], grid_2[:,1], \"bx\",\n",
    "        grid_3[:,0], grid_3[:,1], \"c^\",\n",
    "        grid_4[:,0], grid_4[:,1], \"y+\")\n",
    "plt.axis([0, 10, 0, 10])\n",
    "plt.xlabel(\"Dimension 1\")\n",
    "plt.ylabel(\"Dimension 2\")\n",
    "plt.title(\"Vector quantization\")\n",
    "plt.show()"
   ]
  },
  {
   "cell_type": "markdown",
   "id": "1a9974ad",
   "metadata": {},
   "source": [
    "## Analyzing sequential data using recurrent neural networks\n",
    "\n",
    "Particularly RNNs are great for sequential data"
   ]
  },
  {
   "cell_type": "code",
   "execution_count": 51,
   "id": "0114d16f",
   "metadata": {},
   "outputs": [],
   "source": [
    "def get_data(num_points):\n",
    "    # Create sine waveforms\n",
    "    wave_1 = 0.5 * np.sin(np.arange(0, num_points))\n",
    "    wave_2 = 3.6 * np.sin(np.arange(0, num_points))\n",
    "    wave_3 = 1.1 * np.sin(np.arange(0, num_points))\n",
    "    wave_4 = 4.7 * np.sin(np.arange(0, num_points))\n",
    "    \n",
    "     # Create varying amplitudes\n",
    "    amp_1 = np.ones(num_points)\n",
    "    amp_2 = 2.1 + np.zeros(num_points)\n",
    "    amp_3 = 3.2 * np.ones(num_points)\n",
    "    amp_4 = 0.8 + np.zeros(num_points)\n",
    "    \n",
    "    wave = np.array([wave_1, wave_2, wave_3, wave_4]).reshape(num_points * 4, 1)\n",
    "    amp = np.array([[amp_1, amp_2, amp_3, amp_4]]).reshape(num_points * 4, 1)\n",
    "    \n",
    "    return wave, amp"
   ]
  },
  {
   "cell_type": "code",
   "execution_count": 52,
   "id": "5ca699b5",
   "metadata": {},
   "outputs": [],
   "source": [
    "# Visualize the output\n",
    "def visualize_output(nn, num_points_test):\n",
    "    wave, amp = get_data(num_points_test)\n",
    "    output = nn.sim(wave)\n",
    "    plt.plot(amp.reshape(num_points_test * 4))\n",
    "    plt.plot(output.reshape(num_points_test * 4))"
   ]
  },
  {
   "cell_type": "code",
   "execution_count": 53,
   "id": "d3d725fa",
   "metadata": {},
   "outputs": [],
   "source": [
    "# Create some sample data\n",
    "num_points = 40\n",
    "wave, amp = get_data(num_points)"
   ]
  },
  {
   "cell_type": "code",
   "execution_count": 54,
   "id": "5b953429",
   "metadata": {},
   "outputs": [],
   "source": [
    "# Create a recurrent neural network with 2 layers\n",
    "nn = nl.net.newelm([[-2, 2]], [10, 1], [nl.trans.TanSig(), nl.trans.PureLin()])"
   ]
  },
  {
   "cell_type": "code",
   "execution_count": 56,
   "id": "19f542bf",
   "metadata": {},
   "outputs": [],
   "source": [
    "# Set the init functions for each layer\n",
    "nn.layers[0].initf = nl.init.InitRand([-0.1, 0.1], \"wb\")\n",
    "nn.layers[1].initf = nl.init.InitRand([-0.1, 0.1], \"wb\")\n",
    "nn.init()"
   ]
  },
  {
   "cell_type": "code",
   "execution_count": 57,
   "id": "4399e29a",
   "metadata": {},
   "outputs": [
    {
     "name": "stdout",
     "output_type": "stream",
     "text": [
      "Epoch: 100; Error: 0.7520925958203815;\n",
      "Epoch: 200; Error: 0.6687179765419891;\n",
      "Epoch: 300; Error: 0.6184435991187449;\n",
      "Epoch: 400; Error: 0.21474236298249458;\n",
      "Epoch: 500; Error: 0.1687332777917845;\n",
      "Epoch: 600; Error: 0.11369509755285115;\n",
      "Epoch: 700; Error: 0.10685277790595327;\n",
      "Epoch: 800; Error: 0.09040817371315261;\n",
      "Epoch: 900; Error: 0.08047193535750133;\n",
      "Epoch: 1000; Error: 0.07689114589124932;\n",
      "Epoch: 1100; Error: 0.07385885235152434;\n",
      "Epoch: 1200; Error: 0.07254748460209755;\n",
      "The maximum number of train epochs is reached\n"
     ]
    }
   ],
   "source": [
    "# Train the recurrent neural network\n",
    "error_progress = nn.train(wave, amp, epochs=1200, show=100, goal=0.01)"
   ]
  },
  {
   "cell_type": "code",
   "execution_count": 58,
   "id": "7f631ea3",
   "metadata": {},
   "outputs": [],
   "source": [
    "# Run the training data through the network\n",
    "output = nn.sim(wave)"
   ]
  },
  {
   "cell_type": "code",
   "execution_count": 61,
   "id": "08bf647a",
   "metadata": {},
   "outputs": [
    {
     "data": {
      "text/plain": [
       "<matplotlib.legend.Legend at 0x7f150d89fd60>"
      ]
     },
     "execution_count": 61,
     "metadata": {},
     "output_type": "execute_result"
    },
    {
     "data": {
      "image/png": "[encoded data removed]",
      "text/plain": [
       "<Figure size 432x288 with 2 Axes>"
      ]
     },
     "metadata": {
      "needs_background": "light"
     },
     "output_type": "display_data"
    }
   ],
   "source": [
    "# Plot the results\n",
    "plt.subplot(211)\n",
    "plt.plot(error_progress)\n",
    "plt.xlabel(\"Number of epochs\")\n",
    "plt.ylabel(\"Error (MSE)\")\n",
    "plt.subplot(212)\n",
    "plt.plot(amp.reshape(num_points * 4))\n",
    "plt.plot(output.reshape(num_points * 4))\n",
    "plt.legend([\"Original\", \"Predicted\"])"
   ]
  },
  {
   "cell_type": "code",
   "execution_count": 62,
   "id": "0f66f59c",
   "metadata": {},
   "outputs": [
    {
     "data": {
      "image/png": "[encoded data removed]",
      "text/plain": [
       "<Figure size 432x288 with 2 Axes>"
      ]
     },
     "metadata": {
      "needs_background": "light"
     },
     "output_type": "display_data"
    }
   ],
   "source": [
    "# Testing the network performance on unknown data\n",
    "plt.figure()\n",
    "plt.subplot(211)\n",
    "visualize_output(nn, 82)\n",
    "plt.xlim([0, 300])\n",
    "plt.subplot(212)\n",
    "visualize_output(nn, 49)\n",
    "plt.xlim([0, 300])\n",
    "plt.show()"
   ]
  },
  {
   "cell_type": "markdown",
   "id": "44ce58f9",
   "metadata": {},
   "source": [
    "## Visualizing characters in an Optical Character Recognition Database"
   ]
  },
  {
   "cell_type": "code",
   "execution_count": 63,
   "id": "8ba4cf2f",
   "metadata": {},
   "outputs": [],
   "source": [
    "input_file = \"letter.data\"\n",
    "# Define the number of datapoints to be \n",
    "# loaded from the input file\n",
    "num_datapoints = 50\n",
    "# String containing all the distinct characters\n",
    "orig_labels = \"omandig\"\n",
    "# Compute the number of distinct characters\n",
    "num_orig_labels = len(orig_labels)\n",
    "# Define the training and testing parameters\n",
    "num_train = int(0.9 * num_datapoints)\n",
    "num_test = num_datapoints - num_train\n",
    "# Define the dataset extraction parameters\n",
    "start = 6\n",
    "end = -1\n",
    "\n",
    "# Creating the dataset\n",
    "data = []\n",
    "labels = []\n",
    "\n",
    "with open(input_file, 'r') as f:\n",
    "    for line in f.readlines():\n",
    "        # Split the current line tabwise\n",
    "        list_vals = line.split('\\t')\n",
    "    \n",
    "        # Check if the label is in our ground truth\n",
    "        # labels. If not, we should skip it.\n",
    "        if list_vals[1] not in orig_labels:\n",
    "            continue\n",
    "\n",
    "        # Extract the current label and append it\n",
    "        # to the main list\n",
    "        label = np.zeros((num_orig_labels, 1))\n",
    "        label[orig_labels.index(list_vals[1])] = 1\n",
    "        labels.append(label)\n",
    "        # Extract the character vector and append it to the main list\n",
    "        cur_char = np.array([float(x) for x in list_vals[start:end]])\n",
    "        data.append(cur_char)\n",
    "        \n",
    "        if len(data) >= num_datapoints:\n",
    "            break\n",
    "\n",
    "# Convert the data and labels to numpy arrays\n",
    "data = np.asfarray(data)\n",
    "labels = np.array(labels).reshape(num_datapoints, num_orig_labels)\n",
    "\n",
    "# Extract the number of dimensions\n",
    "num_dims = len(data[0])"
   ]
  },
  {
   "cell_type": "code",
   "execution_count": 64,
   "id": "2aa7415f",
   "metadata": {},
   "outputs": [],
   "source": [
    "# Create a feedforward neural network\n",
    "nn = nl.net.newff([[0, 1] for _ in range(len(data[0]))],\n",
    "        [128, 16, num_orig_labels])\n",
    "# Set the training algorithm to gradient descent\n",
    "nn.trainf = nl.train.train_gd"
   ]
  },
  {
   "cell_type": "code",
   "execution_count": 66,
   "id": "abbcc913",
   "metadata": {},
   "outputs": [
    {
     "name": "stdout",
     "output_type": "stream",
     "text": [
      "Epoch: 100; Error: 83.51815079796623;\n",
      "Epoch: 200; Error: 47.6338833787635;\n",
      "Epoch: 300; Error: 63.31681155320885;\n",
      "Epoch: 400; Error: 49.01538184528343;\n",
      "Epoch: 500; Error: 60.34754002662025;\n",
      "Epoch: 600; Error: 58.22795449534192;\n",
      "Epoch: 700; Error: 53.14096599212493;\n",
      "Epoch: 800; Error: 34.177879324808664;\n",
      "Epoch: 900; Error: 29.137212910051943;\n",
      "Epoch: 1000; Error: 27.205081832421605;\n",
      "Epoch: 1100; Error: 27.156303249192838;\n",
      "Epoch: 1200; Error: 26.736683865734193;\n",
      "Epoch: 1300; Error: 25.945184135272;\n",
      "Epoch: 1400; Error: 24.019477084848415;\n",
      "Epoch: 1500; Error: 26.82693043361561;\n",
      "Epoch: 1600; Error: 14.748192960050865;\n",
      "Epoch: 1700; Error: 13.868810921796745;\n",
      "Epoch: 1800; Error: 6.529245934296597;\n",
      "Epoch: 1900; Error: 1.631429449777118;\n",
      "Epoch: 2000; Error: 1.5796434422161223;\n",
      "Epoch: 2100; Error: 1.5187051680690526;\n",
      "Epoch: 2200; Error: 1.4812198670611605;\n",
      "Epoch: 2300; Error: 1.68764847453288;\n",
      "Epoch: 2400; Error: 1.6748076878730194;\n",
      "Epoch: 2500; Error: 1.6640835153428175;\n",
      "Epoch: 2600; Error: 1.6545218239233406;\n",
      "Epoch: 2700; Error: 1.645643983747048;\n",
      "Epoch: 2800; Error: 1.637168808312016;\n",
      "Epoch: 2900; Error: 1.6289968474230392;\n",
      "Epoch: 3000; Error: 1.6211287888692647;\n",
      "Epoch: 3100; Error: 1.6136123760213912;\n",
      "Epoch: 3200; Error: 1.6065043272269315;\n",
      "Epoch: 3300; Error: 1.5998432727434984;\n",
      "Epoch: 3400; Error: 1.5936365857570602;\n",
      "Epoch: 3500; Error: 1.5878610095019234;\n",
      "Epoch: 3600; Error: 1.5824719211990783;\n",
      "Epoch: 3700; Error: 1.5774146831581746;\n",
      "Epoch: 3800; Error: 1.57263375043288;\n",
      "Epoch: 3900; Error: 1.568078185150342;\n",
      "Epoch: 4000; Error: 1.5637040837240903;\n",
      "Epoch: 4100; Error: 1.5594749986664618;\n",
      "Epoch: 4200; Error: 1.5553613121811627;\n",
      "Epoch: 4300; Error: 1.551339197566818;\n",
      "Epoch: 4400; Error: 1.5473895210170538;\n",
      "Epoch: 4500; Error: 1.5434968476087778;\n",
      "Epoch: 4600; Error: 1.5396486079316782;\n",
      "Epoch: 4700; Error: 1.5358344284351957;\n",
      "Epoch: 4800; Error: 1.5320456063631767;\n",
      "Epoch: 4900; Error: 1.5282747041424045;\n",
      "Epoch: 5000; Error: 1.5245152395391368;\n",
      "Epoch: 5100; Error: 1.5207614520758326;\n",
      "Epoch: 5200; Error: 1.517008130751444;\n",
      "Epoch: 5300; Error: 1.513250491973853;\n",
      "Epoch: 5400; Error: 1.5094840994156968;\n",
      "Epoch: 5500; Error: 1.505704819213351;\n",
      "Epoch: 5600; Error: 1.5019088046929676;\n",
      "Epoch: 5700; Error: 1.498092504870201;\n",
      "Epoch: 5800; Error: 1.4942526906262845;\n",
      "Epoch: 5900; Error: 1.4903864920206864;\n",
      "Epoch: 6000; Error: 1.4864914399434555;\n",
      "Epoch: 6100; Error: 1.482565505455566;\n",
      "Epoch: 6200; Error: 1.4786071308309119;\n",
      "Epoch: 6300; Error: 1.4746152474965173;\n",
      "Epoch: 6400; Error: 1.470589277655418;\n",
      "Epoch: 6500; Error: 1.4665291181715223;\n",
      "Epoch: 6600; Error: 1.4624351070672441;\n",
      "Epoch: 6700; Error: 1.4583079745144052;\n",
      "Epoch: 6800; Error: 1.4541487813252405;\n",
      "Epoch: 6900; Error: 1.449958848589611;\n",
      "Epoch: 7000; Error: 1.445739682254008;\n",
      "Epoch: 7100; Error: 1.4414928961585636;\n",
      "Epoch: 7200; Error: 1.4372201364433317;\n",
      "Epoch: 7300; Error: 1.4329230094180465;\n",
      "Epoch: 7400; Error: 1.4286030140656045;\n",
      "Epoch: 7500; Error: 1.4242614793919208;\n",
      "Epoch: 7600; Error: 1.4198995058881998;\n",
      "Epoch: 7700; Error: 1.4155179094147048;\n",
      "Epoch: 7800; Error: 1.4111171648246637;\n",
      "Epoch: 7900; Error: 1.4066973454153522;\n",
      "Epoch: 8000; Error: 1.4022580530311273;\n",
      "Epoch: 8100; Error: 1.3977983276513026;\n",
      "Epoch: 8200; Error: 1.3933165602779067;\n",
      "Epoch: 8300; Error: 1.3888100945807529;\n",
      "Epoch: 8400; Error: 1.3842755009117163;\n",
      "Epoch: 8500; Error: 1.3797257512604573;\n",
      "Epoch: 8600; Error: 1.3750645685480856;\n",
      "Epoch: 8700; Error: 1.3668835554945473;\n",
      "Epoch: 8800; Error: 1.7911296684851683;\n",
      "Epoch: 8900; Error: 1.5425157877225186;\n",
      "Epoch: 9000; Error: 1.5261043381230108;\n",
      "Epoch: 9100; Error: 1.5175340915580926;\n",
      "Epoch: 9200; Error: 1.5118201172499406;\n",
      "Epoch: 9300; Error: 1.5074898588182055;\n",
      "Epoch: 9400; Error: 1.5039812719759644;\n",
      "Epoch: 9500; Error: 1.501029056478559;\n",
      "Epoch: 9600; Error: 1.49848979893829;\n",
      "Epoch: 9700; Error: 1.4962786971975852;\n",
      "Epoch: 9800; Error: 1.4943423303326675;\n",
      "Epoch: 9900; Error: 1.4926452311086666;\n",
      "Epoch: 10000; Error: 1.4911624349735413;\n",
      "The maximum number of train epochs is reached\n"
     ]
    }
   ],
   "source": [
    "# Train the network\n",
    "error_progress = nn.train(data[:num_train,:], labels[:num_train,:], epochs=10000, show=100, goal=0.01)"
   ]
  },
  {
   "cell_type": "code",
   "execution_count": 67,
   "id": "d8c9b8be",
   "metadata": {},
   "outputs": [
    {
     "name": "stdout",
     "output_type": "stream",
     "text": [
      "\n",
      "Testing on unknown data:\n",
      "\n",
      "Original: o\n",
      "Predicted: o\n",
      "\n",
      "Original: m\n",
      "Predicted: n\n",
      "\n",
      "Original: m\n",
      "Predicted: m\n",
      "\n",
      "Original: a\n",
      "Predicted: o\n",
      "\n",
      "Original: n\n",
      "Predicted: n\n"
     ]
    }
   ],
   "source": [
    "# Predict the output for test inputs\n",
    "print('\\nTesting on unknown data:')\n",
    "predicted_test = nn.sim(data[num_train:, :])\n",
    "for i in range(num_test):\n",
    "    print('\\nOriginal:', orig_labels[np.argmax(labels[i])])\n",
    "    print('Predicted:', orig_labels[np.argmax(predicted_test[i])])"
   ]
  }
 ],
 "metadata": {
  "kernelspec": {
   "display_name": "Python 3 (ipykernel)",
   "language": "python",
   "name": "python3"
  },
  "language_info": {
   "codemirror_mode": {
    "name": "ipython",
    "version": 3
   },
   "file_extension": ".py",
   "mimetype": "text/x-python",
   "name": "python",
   "nbconvert_exporter": "python",
   "pygments_lexer": "ipython3",
   "version": "3.10.6"
  }
 },
 "nbformat": 4,
 "nbformat_minor": 5
}
